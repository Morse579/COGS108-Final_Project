{
 "cells": [
  {
   "cell_type": "markdown",
   "metadata": {},
   "source": [
    "# COGS 108 Final Project"
   ]
  },
  {
   "cell_type": "markdown",
   "metadata": {},
   "source": [
    "## Group Members:\n",
    "- A13642946 (Xuqian Tan)\n",
    "- A13817367 (Yushan Liu)\n",
    "- A13311043 (Xuhan Yang)\n",
    "- A13712899 (Weixiu Dong)\n"
   ]
  },
  {
   "cell_type": "markdown",
   "metadata": {},
   "source": [
    "## Research Question"
   ]
  },
  {
   "cell_type": "markdown",
   "metadata": {},
   "source": [
    "What was the trend in gender and racial diversity of instructional staff in the U.S. postsecondary educational institutions from 2009 to 2017?"
   ]
  },
  {
   "cell_type": "markdown",
   "metadata": {},
   "source": [
    "## Hypothesis"
   ]
  },
  {
   "cell_type": "markdown",
   "metadata": {},
   "source": [
    "We believe that there was an increase in instructional staff diversity(gender and race) among U.S. postsecondary educational institutions from the 2009 to 2017. \n"
   ]
  },
  {
   "cell_type": "markdown",
   "metadata": {},
   "source": [
    "## Introduction and Background"
   ]
  },
  {
   "cell_type": "markdown",
   "metadata": {},
   "source": [
    "A lack of diversity in educational system has often been discussed by the public, but the spotlight mainly shines on the student body. Surprisingly, the teachers and instructional staff, who play important roles in the educational system, appear to be less diverse than their student counterparts. In a study done in 2004, it is shown that “the majority of teachers continue to be white (87%), females (74%) and middle-class” (Banks & Banks). However, diversity in teachers is essential in many ways. Diversity in teachers’ backgrounds reflect the composition of our society, and teachers representing minority groups are likely to become role models for students from minority groups and help break negative stereotypes of minority groups (U.S. Department of Education, Policy and Program Studies Service Office of Planning, Evaluation, and Policy Development.). \n",
    "\n",
    "As we acknowledge that there are many other factors contributing to one’s cultural identity and should be studied, in this project, we will focus on gender and racial diversity among full-time instructional staff in postsecondary educational institutions and beyond. We believe that an institute with better represented gender and racial composition provides more inclusive educational environment. From our data, instructional staff includes professor, associate professor, assistant professor, instructor, lecturer and instructors with no academic rank. There has been past research focusing on similar issues, but not exactly at this aspect. For example, the U.S. Department of Education Schools and Staffing Survey (SASS), with the most recent one in 2016, reports that “a nationally representative survey of teachers and principals, showed that 82 percent of public school teachers identified as white”. The report looks at racial diversity in all public schools from elementary to postsecondary institutions. As college students, we are more interested in the situation in universities and other postsecondary educational institutions. Specifically, postsecondary educational institutions refer to those that offer an associate’s, bachelor’s, or above degrees. Despite the previous unpromising result from the entire educational system, there have been past actions taken to mitigate such issues. For example, UCSD has declared an equal education and employment opportunity statement on their website (“Equal Opportunity/ Nondiscrimination/ Nonharassment Statement”). Actions like these help us build confidence in the field and develop our hypothesis: we believe that there has been an improvement in gender and racial diversity among full-time instructional staff in postsecondary institutions from 2006 to 2017. \n",
    "\n",
    "\n",
    "Reference:\n",
    "\n",
    "Banks, J.A. & McGee-Banks, C.A. (Eds.). Multicultural education: Issues and perspectives (5th ed.). New York: John Wiley & Sons. \n",
    "\n",
    "“Equal Opportunity/ Nondiscrimination/ Nonharassment Statement”.  UCSD Human Resources, https://blink.ucsd.edu/HR/policies/affirmative/equal.html. \n",
    " \n",
    "U.S. Department of Education, National Center for Education Statistics. “Table 209.10: Number and percentage distribution of teachers in public and private elementary and secondary schools, by selected teacher characteristics: Selected years, 1987-88 through 2011-12.” Digest of Education Statistics, 2013. https://nces.ed.gov/programs/digest/d13/tables/dt13_209.10.asp\n",
    "\n",
    "U.S. Department of Education, Policy and Program Studies Service Office of Planning, Evaluation, and Policy Development.  “The State of Racial Diversity in the Educator Workforce.” 2016. https://www2.ed.gov/rschstat/eval/highered/racial-diversity/state-racial-diversity-workforce.pdf"
   ]
  },
  {
   "cell_type": "markdown",
   "metadata": {},
   "source": [
    "## Data Description"
   ]
  },
  {
   "cell_type": "markdown",
   "metadata": {},
   "source": [
    "There are two sets of data that we plan to use. The first dataset from [IPEDS Data Center](https://www.census.gov/data/datasets/2010/demo/popest/modified-race-data-2010.html),\n",
    "the national center for education statistics, is a dataset regarding the gender and race statistics of full-time instructional staff from postsecondary educational institutes in United States respectively. The result is recorded each year, and only the data in every odd-numbered year is mandatory. One thing to note is that the data is organized in different ways pre and post 2008. For the sake of simplicity, we decide to take the data from 09, 11, 13, 15, 17 to study the diversity in the U.S. postsecondary education employment. In our raw data, the rows represent the population counts in institution per “ARANK”. “ARANK” is the column for a more detailed subcategory of academic rank, like full-time lecturer vs. professor. Therefore, each institution is represented by a unique “UNITID”. This means that one institution can have multiple rows in the dataframe. Each column is further explained in the dictionary dataframe, but most of those are counts of a specific subgroup. For example, “ASIATP” is the total population of Asians, “ASIATM” is the total male populations of Asians. \n",
    "\n",
    "\n",
    "The second dataset is [the U.S. population census in 2010](https://www.census.gov/data/datasets/2010/demo/popest/modified-race-data-2010.html). \n",
    "As we are interested in the dynamics in the academic teaching world, we need a reference population distribution on gender and race. We select the 2010 census because U.S. census occurs every 10 years and it is the only census that occured in our year-span. Although 2010 is more towards the earlier years of our year-span and the U.S. population has been increasing ever since, we assume that the proportion of each gender and race in the general population have not changed much.\n"
   ]
  },
  {
   "cell_type": "markdown",
   "metadata": {},
   "source": [
    "## Load & Clean the Data"
   ]
  },
  {
   "cell_type": "code",
   "execution_count": 1,
   "metadata": {},
   "outputs": [],
   "source": [
    "# Imports\n",
    "%matplotlib inline\n",
    "\n",
    "import numpy as np\n",
    "\n",
    "import pandas as pd\n",
    "\n",
    "import matplotlib\n",
    "import matplotlib.pyplot as plt\n",
    "plt.style.use('fivethirtyeight')\n",
    "\n",
    "import patsy\n",
    "import statsmodels.api as sm\n",
    "import scipy.stats as stats\n",
    "from scipy.stats import ttest_ind, chisquare, normaltest\n",
    "\n",
    "from matplotlib import patches\n",
    "from ipywidgets import interact, interactive, fixed\n",
    "import ipywidgets as widgets\n"
   ]
  },
  {
   "cell_type": "markdown",
   "metadata": {},
   "source": [
    "### Load the data\n",
    "Import datasets."
   ]
  },
  {
   "cell_type": "code",
   "execution_count": 2,
   "metadata": {},
   "outputs": [
    {
     "data": {
      "text/html": [
       "<div>\n",
       "<style scoped>\n",
       "    .dataframe tbody tr th:only-of-type {\n",
       "        vertical-align: middle;\n",
       "    }\n",
       "\n",
       "    .dataframe tbody tr th {\n",
       "        vertical-align: top;\n",
       "    }\n",
       "\n",
       "    .dataframe thead th {\n",
       "        text-align: right;\n",
       "    }\n",
       "</style>\n",
       "<table border=\"1\" class=\"dataframe\">\n",
       "  <thead>\n",
       "    <tr style=\"text-align: right;\">\n",
       "      <th></th>\n",
       "      <th>UNITID</th>\n",
       "      <th>ARANK</th>\n",
       "      <th>XHRTOTLT</th>\n",
       "      <th>HRTOTLT</th>\n",
       "      <th>XHRTOTLM</th>\n",
       "      <th>HRTOTLM</th>\n",
       "      <th>XHRTOTLW</th>\n",
       "      <th>HRTOTLW</th>\n",
       "      <th>XDVHRAIT</th>\n",
       "      <th>DVHRAIT</th>\n",
       "      <th>...</th>\n",
       "      <th>XHRUNKNM</th>\n",
       "      <th>HRUNKNM</th>\n",
       "      <th>XHRUNKNW</th>\n",
       "      <th>HRUNKNW</th>\n",
       "      <th>XHRNRALT</th>\n",
       "      <th>HRNRALT</th>\n",
       "      <th>XHRNRALM</th>\n",
       "      <th>HRNRALM</th>\n",
       "      <th>XHRNRALW</th>\n",
       "      <th>HRNRALW</th>\n",
       "    </tr>\n",
       "  </thead>\n",
       "  <tbody>\n",
       "    <tr>\n",
       "      <th>0</th>\n",
       "      <td>100654</td>\n",
       "      <td>1</td>\n",
       "      <td>R</td>\n",
       "      <td>44</td>\n",
       "      <td>R</td>\n",
       "      <td>31</td>\n",
       "      <td>R</td>\n",
       "      <td>13</td>\n",
       "      <td>Z</td>\n",
       "      <td>0</td>\n",
       "      <td>...</td>\n",
       "      <td>Z</td>\n",
       "      <td>0</td>\n",
       "      <td>Z</td>\n",
       "      <td>0</td>\n",
       "      <td>R</td>\n",
       "      <td>6</td>\n",
       "      <td>R</td>\n",
       "      <td>6</td>\n",
       "      <td>Z</td>\n",
       "      <td>0</td>\n",
       "    </tr>\n",
       "    <tr>\n",
       "      <th>1</th>\n",
       "      <td>100654</td>\n",
       "      <td>2</td>\n",
       "      <td>R</td>\n",
       "      <td>38</td>\n",
       "      <td>R</td>\n",
       "      <td>30</td>\n",
       "      <td>R</td>\n",
       "      <td>8</td>\n",
       "      <td>Z</td>\n",
       "      <td>0</td>\n",
       "      <td>...</td>\n",
       "      <td>Z</td>\n",
       "      <td>0</td>\n",
       "      <td>Z</td>\n",
       "      <td>0</td>\n",
       "      <td>R</td>\n",
       "      <td>3</td>\n",
       "      <td>R</td>\n",
       "      <td>3</td>\n",
       "      <td>Z</td>\n",
       "      <td>0</td>\n",
       "    </tr>\n",
       "    <tr>\n",
       "      <th>2</th>\n",
       "      <td>100654</td>\n",
       "      <td>3</td>\n",
       "      <td>R</td>\n",
       "      <td>43</td>\n",
       "      <td>R</td>\n",
       "      <td>27</td>\n",
       "      <td>R</td>\n",
       "      <td>16</td>\n",
       "      <td>Z</td>\n",
       "      <td>0</td>\n",
       "      <td>...</td>\n",
       "      <td>Z</td>\n",
       "      <td>0</td>\n",
       "      <td>Z</td>\n",
       "      <td>0</td>\n",
       "      <td>R</td>\n",
       "      <td>4</td>\n",
       "      <td>R</td>\n",
       "      <td>2</td>\n",
       "      <td>R</td>\n",
       "      <td>2</td>\n",
       "    </tr>\n",
       "    <tr>\n",
       "      <th>3</th>\n",
       "      <td>100654</td>\n",
       "      <td>4</td>\n",
       "      <td>R</td>\n",
       "      <td>1</td>\n",
       "      <td>R</td>\n",
       "      <td>1</td>\n",
       "      <td>Z</td>\n",
       "      <td>0</td>\n",
       "      <td>Z</td>\n",
       "      <td>0</td>\n",
       "      <td>...</td>\n",
       "      <td>Z</td>\n",
       "      <td>0</td>\n",
       "      <td>Z</td>\n",
       "      <td>0</td>\n",
       "      <td>Z</td>\n",
       "      <td>0</td>\n",
       "      <td>Z</td>\n",
       "      <td>0</td>\n",
       "      <td>Z</td>\n",
       "      <td>0</td>\n",
       "    </tr>\n",
       "    <tr>\n",
       "      <th>4</th>\n",
       "      <td>100654</td>\n",
       "      <td>7</td>\n",
       "      <td>R</td>\n",
       "      <td>126</td>\n",
       "      <td>R</td>\n",
       "      <td>89</td>\n",
       "      <td>R</td>\n",
       "      <td>37</td>\n",
       "      <td>Z</td>\n",
       "      <td>0</td>\n",
       "      <td>...</td>\n",
       "      <td>Z</td>\n",
       "      <td>0</td>\n",
       "      <td>Z</td>\n",
       "      <td>0</td>\n",
       "      <td>R</td>\n",
       "      <td>13</td>\n",
       "      <td>R</td>\n",
       "      <td>11</td>\n",
       "      <td>R</td>\n",
       "      <td>2</td>\n",
       "    </tr>\n",
       "  </tbody>\n",
       "</table>\n",
       "<p>5 rows × 122 columns</p>\n",
       "</div>"
      ],
      "text/plain": [
       "   UNITID  ARANK XHRTOTLT  HRTOTLT XHRTOTLM  HRTOTLM XHRTOTLW  HRTOTLW  \\\n",
       "0  100654      1        R       44        R       31        R       13   \n",
       "1  100654      2        R       38        R       30        R        8   \n",
       "2  100654      3        R       43        R       27        R       16   \n",
       "3  100654      4        R        1        R        1        Z        0   \n",
       "4  100654      7        R      126        R       89        R       37   \n",
       "\n",
       "  XDVHRAIT  DVHRAIT    ...    XHRUNKNM  HRUNKNM XHRUNKNW  HRUNKNW XHRNRALT  \\\n",
       "0        Z        0    ...           Z        0        Z        0        R   \n",
       "1        Z        0    ...           Z        0        Z        0        R   \n",
       "2        Z        0    ...           Z        0        Z        0        R   \n",
       "3        Z        0    ...           Z        0        Z        0        Z   \n",
       "4        Z        0    ...           Z        0        Z        0        R   \n",
       "\n",
       "   HRNRALT XHRNRALM  HRNRALM XHRNRALW  HRNRALW   \n",
       "0        6        R        6        Z         0  \n",
       "1        3        R        3        Z         0  \n",
       "2        4        R        2        R         2  \n",
       "3        0        Z        0        Z         0  \n",
       "4       13        R       11        R         2  \n",
       "\n",
       "[5 rows x 122 columns]"
      ]
     },
     "execution_count": 2,
     "metadata": {},
     "output_type": "execute_result"
    }
   ],
   "source": [
    "# Load the file 2009\n",
    "df_9 = pd.read_csv(\"data/s2009_f_rv.csv\")\n",
    "\n",
    "# Load the file 2011\n",
    "df_11 = pd.read_csv(\"data/s2011_f_rv.csv\")\n",
    "\n",
    "# Load the file 2013\n",
    "df_13 = pd.read_csv(\"data/s2013_is_rv.csv\")\n",
    "\n",
    "# Load the file 2015\n",
    "df_15 = pd.read_csv(\"data/s2015_is_rv.csv\")\n",
    "\n",
    "# Load the file 2017\n",
    "df_17 = pd.read_csv(\"data/s2017_is.csv\")\n",
    "\n",
    "df_list = [df_9, df_11, df_13, df_15, df_17]\n",
    "\n",
    "# Displaying dataframe example\n",
    "df_9.head(5)"
   ]
  },
  {
   "cell_type": "markdown",
   "metadata": {},
   "source": [
    "### Load the dictionary\n",
    "Import dictionaries that are used to intepret column names of our data set loaded above. "
   ]
  },
  {
   "cell_type": "code",
   "execution_count": 3,
   "metadata": {},
   "outputs": [
    {
     "data": {
      "text/html": [
       "<div>\n",
       "<style scoped>\n",
       "    .dataframe tbody tr th:only-of-type {\n",
       "        vertical-align: middle;\n",
       "    }\n",
       "\n",
       "    .dataframe tbody tr th {\n",
       "        vertical-align: top;\n",
       "    }\n",
       "\n",
       "    .dataframe thead th {\n",
       "        text-align: right;\n",
       "    }\n",
       "</style>\n",
       "<table border=\"1\" class=\"dataframe\">\n",
       "  <thead>\n",
       "    <tr style=\"text-align: right;\">\n",
       "      <th></th>\n",
       "      <th>varnumber</th>\n",
       "      <th>varname</th>\n",
       "      <th>DataType</th>\n",
       "      <th>Fieldwidth</th>\n",
       "      <th>format</th>\n",
       "      <th>imputationvar</th>\n",
       "      <th>NAME</th>\n",
       "      <th>varTitle</th>\n",
       "    </tr>\n",
       "  </thead>\n",
       "  <tbody>\n",
       "    <tr>\n",
       "      <th>0</th>\n",
       "      <td>1</td>\n",
       "      <td>UNITID</td>\n",
       "      <td>N</td>\n",
       "      <td>6</td>\n",
       "      <td>Cont</td>\n",
       "      <td>NaN</td>\n",
       "      <td>UNITID</td>\n",
       "      <td>Unique identification number of the institution</td>\n",
       "    </tr>\n",
       "    <tr>\n",
       "      <th>1</th>\n",
       "      <td>50356</td>\n",
       "      <td>ARANK</td>\n",
       "      <td>N</td>\n",
       "      <td>3</td>\n",
       "      <td>Disc</td>\n",
       "      <td>NaN</td>\n",
       "      <td>ARANK</td>\n",
       "      <td>Tenure status and academic rank of full-time i...</td>\n",
       "    </tr>\n",
       "    <tr>\n",
       "      <th>2</th>\n",
       "      <td>50476</td>\n",
       "      <td>HRTOTLT</td>\n",
       "      <td>N</td>\n",
       "      <td>6</td>\n",
       "      <td>Cont</td>\n",
       "      <td>XHRTOTLT</td>\n",
       "      <td>HRTOTLT</td>\n",
       "      <td>Grand total</td>\n",
       "    </tr>\n",
       "    <tr>\n",
       "      <th>3</th>\n",
       "      <td>50431</td>\n",
       "      <td>HRTOTLM</td>\n",
       "      <td>N</td>\n",
       "      <td>6</td>\n",
       "      <td>Cont</td>\n",
       "      <td>XHRTOTLM</td>\n",
       "      <td>HRTOTLM</td>\n",
       "      <td>Grand total men</td>\n",
       "    </tr>\n",
       "    <tr>\n",
       "      <th>4</th>\n",
       "      <td>50436</td>\n",
       "      <td>HRTOTLW</td>\n",
       "      <td>N</td>\n",
       "      <td>6</td>\n",
       "      <td>Cont</td>\n",
       "      <td>XHRTOTLW</td>\n",
       "      <td>HRTOTLW</td>\n",
       "      <td>Grand total women</td>\n",
       "    </tr>\n",
       "  </tbody>\n",
       "</table>\n",
       "</div>"
      ],
      "text/plain": [
       "   varnumber  varname DataType  Fieldwidth format imputationvar     NAME  \\\n",
       "0          1   UNITID        N           6   Cont           NaN   UNITID   \n",
       "1      50356    ARANK        N           3   Disc           NaN    ARANK   \n",
       "2      50476  HRTOTLT        N           6   Cont      XHRTOTLT  HRTOTLT   \n",
       "3      50431  HRTOTLM        N           6   Cont      XHRTOTLM  HRTOTLM   \n",
       "4      50436  HRTOTLW        N           6   Cont      XHRTOTLW  HRTOTLW   \n",
       "\n",
       "                                            varTitle  \n",
       "0    Unique identification number of the institution  \n",
       "1  Tenure status and academic rank of full-time i...  \n",
       "2                                        Grand total  \n",
       "3                                    Grand total men  \n",
       "4                                  Grand total women  "
      ]
     },
     "execution_count": 3,
     "metadata": {},
     "output_type": "execute_result"
    }
   ],
   "source": [
    "# Load the file 2009\n",
    "xls = pd.ExcelFile('data/dictionary/s2009_f.xls')\n",
    "df_dict_9 = pd.read_excel(xls, 'varlist')\n",
    "# Load the file 2011\n",
    "xls = pd.ExcelFile('data/dictionary/s2011_f.xls')\n",
    "df_dict_11 = pd.read_excel(xls, 'varlist')\n",
    "\n",
    "# Display dictionary example\n",
    "df_dict_11.head()"
   ]
  },
  {
   "cell_type": "markdown",
   "metadata": {},
   "source": [
    "### Expected Distribution of Races from Census Data of 2010\n",
    "Load national census data of race composition ratios from 2010\n",
    "(as the original dataset is a plain report excel sheet of census result, we decide to hard code the expected numbers for simplicity and readability)"
   ]
  },
  {
   "cell_type": "code",
   "execution_count": 4,
   "metadata": {},
   "outputs": [],
   "source": [
    "# American Indian and Alaska Native\n",
    "AIANTP = 1.2\n",
    "# Asian\n",
    "ASIATP = 4.9\n",
    "# Black or African American total percent\n",
    "BKAATP = 13.0\n",
    "# Hispanic or Latino, regardless of race.\n",
    "HISPTP = 15.9\n",
    "# Native Hawaiian or Other Pacific Islander total\n",
    "NHPITP = 0.2\n",
    "# White total percent\n",
    "WHITTP = 78.4\n",
    "# Two or more races total\n",
    "TMORTP = 2.3\n",
    "\n",
    "census_race = np.array([AIANTP, ASIATP, BKAATP, NHPITP, WHITTP, TMORTP]) / 100\n",
    "\n",
    "# Race/ethnicity unknown total is not given in census, and the overal percentages of 5 races add up to 100%"
   ]
  },
  {
   "cell_type": "markdown",
   "metadata": {},
   "source": [
    "### Clean N/A\n",
    "We remove all the N/A data from our dataset, with respect to imputation standards from the original data dictionary:\n",
    "- A\tNot applicable\n",
    "- B\tInstitution left item blank\n",
    "- C\tAnalyst corrected reported value\n",
    "- D\tDo not know\n",
    "- G\tData generated from other data values\n",
    "- H\tValue not derived - data not usable\n",
    "- J\tLogical imputation\n",
    "- K\tRatio adjustment \n",
    "- L\tImputed using the Group Median procedure\n",
    "- N\tImputed using Nearest Neighbor procedure\n",
    "- P\tImputed using Carry Forward procedure\n",
    "- R\tReported\n",
    "- Z\tImplied zero"
   ]
  },
  {
   "cell_type": "code",
   "execution_count": 5,
   "metadata": {},
   "outputs": [
    {
     "data": {
      "text/html": [
       "<div>\n",
       "<style scoped>\n",
       "    .dataframe tbody tr th:only-of-type {\n",
       "        vertical-align: middle;\n",
       "    }\n",
       "\n",
       "    .dataframe tbody tr th {\n",
       "        vertical-align: top;\n",
       "    }\n",
       "\n",
       "    .dataframe thead th {\n",
       "        text-align: right;\n",
       "    }\n",
       "</style>\n",
       "<table border=\"1\" class=\"dataframe\">\n",
       "  <thead>\n",
       "    <tr style=\"text-align: right;\">\n",
       "      <th></th>\n",
       "      <th>UNITID</th>\n",
       "      <th>ARANK</th>\n",
       "      <th>XHRTOTLT</th>\n",
       "      <th>HRTOTLT</th>\n",
       "      <th>XHRTOTLM</th>\n",
       "      <th>HRTOTLM</th>\n",
       "      <th>XHRTOTLW</th>\n",
       "      <th>HRTOTLW</th>\n",
       "      <th>XDVHRAIT</th>\n",
       "      <th>DVHRAIT</th>\n",
       "      <th>...</th>\n",
       "      <th>XHRUNKNM</th>\n",
       "      <th>HRUNKNM</th>\n",
       "      <th>XHRUNKNW</th>\n",
       "      <th>HRUNKNW</th>\n",
       "      <th>XHRNRALT</th>\n",
       "      <th>HRNRALT</th>\n",
       "      <th>XHRNRALM</th>\n",
       "      <th>HRNRALM</th>\n",
       "      <th>XHRNRALW</th>\n",
       "      <th>HRNRALW</th>\n",
       "    </tr>\n",
       "  </thead>\n",
       "  <tbody>\n",
       "    <tr>\n",
       "      <th>48</th>\n",
       "      <td>100724</td>\n",
       "      <td>1</td>\n",
       "      <td>R</td>\n",
       "      <td>55</td>\n",
       "      <td>R</td>\n",
       "      <td>38</td>\n",
       "      <td>R</td>\n",
       "      <td>17</td>\n",
       "      <td>R</td>\n",
       "      <td>2</td>\n",
       "      <td>...</td>\n",
       "      <td>Z</td>\n",
       "      <td>0</td>\n",
       "      <td>Z</td>\n",
       "      <td>0</td>\n",
       "      <td>Z</td>\n",
       "      <td>0</td>\n",
       "      <td>Z</td>\n",
       "      <td>0</td>\n",
       "      <td>Z</td>\n",
       "      <td>0</td>\n",
       "    </tr>\n",
       "    <tr>\n",
       "      <th>49</th>\n",
       "      <td>100724</td>\n",
       "      <td>2</td>\n",
       "      <td>R</td>\n",
       "      <td>39</td>\n",
       "      <td>R</td>\n",
       "      <td>14</td>\n",
       "      <td>R</td>\n",
       "      <td>25</td>\n",
       "      <td>Z</td>\n",
       "      <td>0</td>\n",
       "      <td>...</td>\n",
       "      <td>Z</td>\n",
       "      <td>0</td>\n",
       "      <td>Z</td>\n",
       "      <td>0</td>\n",
       "      <td>Z</td>\n",
       "      <td>0</td>\n",
       "      <td>Z</td>\n",
       "      <td>0</td>\n",
       "      <td>Z</td>\n",
       "      <td>0</td>\n",
       "    </tr>\n",
       "    <tr>\n",
       "      <th>50</th>\n",
       "      <td>100724</td>\n",
       "      <td>3</td>\n",
       "      <td>R</td>\n",
       "      <td>10</td>\n",
       "      <td>R</td>\n",
       "      <td>3</td>\n",
       "      <td>R</td>\n",
       "      <td>7</td>\n",
       "      <td>Z</td>\n",
       "      <td>0</td>\n",
       "      <td>...</td>\n",
       "      <td>Z</td>\n",
       "      <td>0</td>\n",
       "      <td>Z</td>\n",
       "      <td>0</td>\n",
       "      <td>Z</td>\n",
       "      <td>0</td>\n",
       "      <td>Z</td>\n",
       "      <td>0</td>\n",
       "      <td>Z</td>\n",
       "      <td>0</td>\n",
       "    </tr>\n",
       "    <tr>\n",
       "      <th>51</th>\n",
       "      <td>100724</td>\n",
       "      <td>4</td>\n",
       "      <td>R</td>\n",
       "      <td>2</td>\n",
       "      <td>Z</td>\n",
       "      <td>0</td>\n",
       "      <td>R</td>\n",
       "      <td>2</td>\n",
       "      <td>Z</td>\n",
       "      <td>0</td>\n",
       "      <td>...</td>\n",
       "      <td>Z</td>\n",
       "      <td>0</td>\n",
       "      <td>Z</td>\n",
       "      <td>0</td>\n",
       "      <td>Z</td>\n",
       "      <td>0</td>\n",
       "      <td>Z</td>\n",
       "      <td>0</td>\n",
       "      <td>Z</td>\n",
       "      <td>0</td>\n",
       "    </tr>\n",
       "    <tr>\n",
       "      <th>52</th>\n",
       "      <td>100724</td>\n",
       "      <td>7</td>\n",
       "      <td>R</td>\n",
       "      <td>106</td>\n",
       "      <td>R</td>\n",
       "      <td>55</td>\n",
       "      <td>R</td>\n",
       "      <td>51</td>\n",
       "      <td>R</td>\n",
       "      <td>2</td>\n",
       "      <td>...</td>\n",
       "      <td>Z</td>\n",
       "      <td>0</td>\n",
       "      <td>Z</td>\n",
       "      <td>0</td>\n",
       "      <td>Z</td>\n",
       "      <td>0</td>\n",
       "      <td>Z</td>\n",
       "      <td>0</td>\n",
       "      <td>Z</td>\n",
       "      <td>0</td>\n",
       "    </tr>\n",
       "  </tbody>\n",
       "</table>\n",
       "<p>5 rows × 122 columns</p>\n",
       "</div>"
      ],
      "text/plain": [
       "    UNITID  ARANK XHRTOTLT  HRTOTLT XHRTOTLM  HRTOTLM XHRTOTLW  HRTOTLW  \\\n",
       "48  100724      1        R       55        R       38        R       17   \n",
       "49  100724      2        R       39        R       14        R       25   \n",
       "50  100724      3        R       10        R        3        R        7   \n",
       "51  100724      4        R        2        Z        0        R        2   \n",
       "52  100724      7        R      106        R       55        R       51   \n",
       "\n",
       "   XDVHRAIT  DVHRAIT    ...    XHRUNKNM  HRUNKNM XHRUNKNW  HRUNKNW XHRNRALT  \\\n",
       "48        R        2    ...           Z        0        Z        0        Z   \n",
       "49        Z        0    ...           Z        0        Z        0        Z   \n",
       "50        Z        0    ...           Z        0        Z        0        Z   \n",
       "51        Z        0    ...           Z        0        Z        0        Z   \n",
       "52        R        2    ...           Z        0        Z        0        Z   \n",
       "\n",
       "    HRNRALT XHRNRALM  HRNRALM XHRNRALW  HRNRALW   \n",
       "48        0        Z        0        Z         0  \n",
       "49        0        Z        0        Z         0  \n",
       "50        0        Z        0        Z         0  \n",
       "51        0        Z        0        Z         0  \n",
       "52        0        Z        0        Z         0  \n",
       "\n",
       "[5 rows x 122 columns]"
      ]
     },
     "execution_count": 5,
     "metadata": {},
     "output_type": "execute_result"
    }
   ],
   "source": [
    "# Extract imputation index\n",
    "imputation_list = []\n",
    "for column in df_list[2]:\n",
    "    if 'X' in column:\n",
    "        imputation_list.append(column)\n",
    "\n",
    "# Drop NA\n",
    "for df_i in df_list:\n",
    "    for imput_index in imputation_list:\n",
    "        df_i.drop(df_i.loc[df_i[imput_index].isin(['A', 'B', 'D', 'H'])].index, inplace=True)\n",
    "df_list[0].head()"
   ]
  },
  {
   "cell_type": "markdown",
   "metadata": {},
   "source": [
    "### Keep only useful columns\n",
    "- After cleaning up N/A cells, we remove imputation index columns"
   ]
  },
  {
   "cell_type": "code",
   "execution_count": 6,
   "metadata": {},
   "outputs": [
    {
     "data": {
      "text/html": [
       "<div>\n",
       "<style scoped>\n",
       "    .dataframe tbody tr th:only-of-type {\n",
       "        vertical-align: middle;\n",
       "    }\n",
       "\n",
       "    .dataframe tbody tr th {\n",
       "        vertical-align: top;\n",
       "    }\n",
       "\n",
       "    .dataframe thead th {\n",
       "        text-align: right;\n",
       "    }\n",
       "</style>\n",
       "<table border=\"1\" class=\"dataframe\">\n",
       "  <thead>\n",
       "    <tr style=\"text-align: right;\">\n",
       "      <th></th>\n",
       "      <th>UNITID</th>\n",
       "      <th>ARANK</th>\n",
       "      <th>HRTOTLT</th>\n",
       "      <th>HRTOTLM</th>\n",
       "      <th>HRTOTLW</th>\n",
       "      <th>HRAIANT</th>\n",
       "      <th>HRAIANM</th>\n",
       "      <th>HRAIANW</th>\n",
       "      <th>HRASIAT</th>\n",
       "      <th>HRASIAM</th>\n",
       "      <th>...</th>\n",
       "      <th>HRWHITW</th>\n",
       "      <th>HR2MORT</th>\n",
       "      <th>HR2MORM</th>\n",
       "      <th>HR2MORW</th>\n",
       "      <th>HRUNKNT</th>\n",
       "      <th>HRUNKNM</th>\n",
       "      <th>HRUNKNW</th>\n",
       "      <th>HRNRALT</th>\n",
       "      <th>HRNRALM</th>\n",
       "      <th>HRNRALW</th>\n",
       "    </tr>\n",
       "  </thead>\n",
       "  <tbody>\n",
       "    <tr>\n",
       "      <th>48</th>\n",
       "      <td>100724</td>\n",
       "      <td>1</td>\n",
       "      <td>55</td>\n",
       "      <td>38</td>\n",
       "      <td>17</td>\n",
       "      <td>2.0</td>\n",
       "      <td>1.0</td>\n",
       "      <td>1.0</td>\n",
       "      <td>11.0</td>\n",
       "      <td>10.0</td>\n",
       "      <td>...</td>\n",
       "      <td>2.0</td>\n",
       "      <td>0.0</td>\n",
       "      <td>0.0</td>\n",
       "      <td>0.0</td>\n",
       "      <td>0</td>\n",
       "      <td>0</td>\n",
       "      <td>0</td>\n",
       "      <td>0</td>\n",
       "      <td>0</td>\n",
       "      <td>0</td>\n",
       "    </tr>\n",
       "    <tr>\n",
       "      <th>49</th>\n",
       "      <td>100724</td>\n",
       "      <td>2</td>\n",
       "      <td>39</td>\n",
       "      <td>14</td>\n",
       "      <td>25</td>\n",
       "      <td>0.0</td>\n",
       "      <td>0.0</td>\n",
       "      <td>0.0</td>\n",
       "      <td>4.0</td>\n",
       "      <td>4.0</td>\n",
       "      <td>...</td>\n",
       "      <td>6.0</td>\n",
       "      <td>0.0</td>\n",
       "      <td>0.0</td>\n",
       "      <td>0.0</td>\n",
       "      <td>0</td>\n",
       "      <td>0</td>\n",
       "      <td>0</td>\n",
       "      <td>0</td>\n",
       "      <td>0</td>\n",
       "      <td>0</td>\n",
       "    </tr>\n",
       "    <tr>\n",
       "      <th>50</th>\n",
       "      <td>100724</td>\n",
       "      <td>3</td>\n",
       "      <td>10</td>\n",
       "      <td>3</td>\n",
       "      <td>7</td>\n",
       "      <td>0.0</td>\n",
       "      <td>0.0</td>\n",
       "      <td>0.0</td>\n",
       "      <td>0.0</td>\n",
       "      <td>0.0</td>\n",
       "      <td>...</td>\n",
       "      <td>1.0</td>\n",
       "      <td>0.0</td>\n",
       "      <td>0.0</td>\n",
       "      <td>0.0</td>\n",
       "      <td>0</td>\n",
       "      <td>0</td>\n",
       "      <td>0</td>\n",
       "      <td>0</td>\n",
       "      <td>0</td>\n",
       "      <td>0</td>\n",
       "    </tr>\n",
       "    <tr>\n",
       "      <th>51</th>\n",
       "      <td>100724</td>\n",
       "      <td>4</td>\n",
       "      <td>2</td>\n",
       "      <td>0</td>\n",
       "      <td>2</td>\n",
       "      <td>0.0</td>\n",
       "      <td>0.0</td>\n",
       "      <td>0.0</td>\n",
       "      <td>0.0</td>\n",
       "      <td>0.0</td>\n",
       "      <td>...</td>\n",
       "      <td>0.0</td>\n",
       "      <td>0.0</td>\n",
       "      <td>0.0</td>\n",
       "      <td>0.0</td>\n",
       "      <td>0</td>\n",
       "      <td>0</td>\n",
       "      <td>0</td>\n",
       "      <td>0</td>\n",
       "      <td>0</td>\n",
       "      <td>0</td>\n",
       "    </tr>\n",
       "    <tr>\n",
       "      <th>52</th>\n",
       "      <td>100724</td>\n",
       "      <td>7</td>\n",
       "      <td>106</td>\n",
       "      <td>55</td>\n",
       "      <td>51</td>\n",
       "      <td>2.0</td>\n",
       "      <td>1.0</td>\n",
       "      <td>1.0</td>\n",
       "      <td>15.0</td>\n",
       "      <td>14.0</td>\n",
       "      <td>...</td>\n",
       "      <td>9.0</td>\n",
       "      <td>0.0</td>\n",
       "      <td>0.0</td>\n",
       "      <td>0.0</td>\n",
       "      <td>0</td>\n",
       "      <td>0</td>\n",
       "      <td>0</td>\n",
       "      <td>0</td>\n",
       "      <td>0</td>\n",
       "      <td>0</td>\n",
       "    </tr>\n",
       "  </tbody>\n",
       "</table>\n",
       "<p>5 rows × 32 columns</p>\n",
       "</div>"
      ],
      "text/plain": [
       "    UNITID  ARANK  HRTOTLT  HRTOTLM  HRTOTLW  HRAIANT  HRAIANM  HRAIANW  \\\n",
       "48  100724      1       55       38       17      2.0      1.0      1.0   \n",
       "49  100724      2       39       14       25      0.0      0.0      0.0   \n",
       "50  100724      3       10        3        7      0.0      0.0      0.0   \n",
       "51  100724      4        2        0        2      0.0      0.0      0.0   \n",
       "52  100724      7      106       55       51      2.0      1.0      1.0   \n",
       "\n",
       "    HRASIAT  HRASIAM    ...     HRWHITW  HR2MORT  HR2MORM  HR2MORW  HRUNKNT  \\\n",
       "48     11.0     10.0    ...         2.0      0.0      0.0      0.0        0   \n",
       "49      4.0      4.0    ...         6.0      0.0      0.0      0.0        0   \n",
       "50      0.0      0.0    ...         1.0      0.0      0.0      0.0        0   \n",
       "51      0.0      0.0    ...         0.0      0.0      0.0      0.0        0   \n",
       "52     15.0     14.0    ...         9.0      0.0      0.0      0.0        0   \n",
       "\n",
       "    HRUNKNM  HRUNKNW  HRNRALT  HRNRALM  HRNRALW   \n",
       "48        0        0        0        0         0  \n",
       "49        0        0        0        0         0  \n",
       "50        0        0        0        0         0  \n",
       "51        0        0        0        0         0  \n",
       "52        0        0        0        0         0  \n",
       "\n",
       "[5 rows x 32 columns]"
      ]
     },
     "execution_count": 6,
     "metadata": {},
     "output_type": "execute_result"
    }
   ],
   "source": [
    "# Drop imputation columns after cleaning NA\n",
    "for df_i in df_list:\n",
    "    for column in df_i:\n",
    "        if 'X' in column:\n",
    "            df_i.drop(column, axis=1, inplace=True)\n",
    "\n",
    "# Handle dataset 2009 seperately due to version difference\n",
    "df_temp = pd.DataFrame()\n",
    "for column in df_list[1]:\n",
    "        df_temp[column] = df_list[0][column]\n",
    "\n",
    "df_list[0] = df_temp\n",
    "\n",
    "# Displaying the resulting dataframe example\n",
    "df_list[0].head()"
   ]
  },
  {
   "cell_type": "markdown",
   "metadata": {},
   "source": [
    "### Keep only intersected rows\n",
    "As we are interested in the trend over time, we want to make sure we only analyze institutions that have continuous data over the time frame (2009 - 2017). Therefore, here we take the intersection of institutions of all 5 datasets, and the resulting dataset only contain shared institutes."
   ]
  },
  {
   "cell_type": "code",
   "execution_count": 7,
   "metadata": {},
   "outputs": [],
   "source": [
    "# extract UNITID column from df to lists\n",
    "y = 0\n",
    "d = {}\n",
    "for i in [9, 11, 13, 15, 17]:\n",
    "    d[\"unitid_{0}\".format(i)] = df_list[y][\"UNITID\"].tolist()\n",
    "    y += 1\n",
    "\n",
    "# find the intersected id from datasets of 2006 to 2017\n",
    "intersect_id = set(d['unitid_9']) & set(d['unitid_11']) & set(d['unitid_13']) & set(d['unitid_15']) & set(d['unitid_17'])\n",
    "\n",
    "for i in np.arange(5):\n",
    "    df_list[i] = df_list[i].loc[df_list[i][\"UNITID\"].isin(intersect_id)]   \n",
    "\n",
    "# handle slight version difference on 11 and above\n",
    "col_diff = set(df_list[2].columns) - set(df_list[0].columns)\n",
    "for j in [2,3,4]:\n",
    "    df_list[j] = df_list[j].drop(col_diff, axis = 1)"
   ]
  },
  {
   "cell_type": "markdown",
   "metadata": {},
   "source": [
    "### Clean alien data\n",
    "Here, we are only interested in the population of U.S. citizens. Let's drop the alien columns and substract thoes from number of total population."
   ]
  },
  {
   "cell_type": "code",
   "execution_count": 8,
   "metadata": {},
   "outputs": [
    {
     "name": "stderr",
     "output_type": "stream",
     "text": [
      "/Users/xuqiantan/anaconda3/lib/python3.7/site-packages/ipykernel_launcher.py:3: SettingWithCopyWarning: \n",
      "A value is trying to be set on a copy of a slice from a DataFrame.\n",
      "Try using .loc[row_indexer,col_indexer] = value instead\n",
      "\n",
      "See the caveats in the documentation: http://pandas.pydata.org/pandas-docs/stable/indexing.html#indexing-view-versus-copy\n",
      "  This is separate from the ipykernel package so we can avoid doing imports until\n",
      "/Users/xuqiantan/anaconda3/lib/python3.7/site-packages/ipykernel_launcher.py:4: SettingWithCopyWarning: \n",
      "A value is trying to be set on a copy of a slice from a DataFrame.\n",
      "Try using .loc[row_indexer,col_indexer] = value instead\n",
      "\n",
      "See the caveats in the documentation: http://pandas.pydata.org/pandas-docs/stable/indexing.html#indexing-view-versus-copy\n",
      "  after removing the cwd from sys.path.\n",
      "/Users/xuqiantan/anaconda3/lib/python3.7/site-packages/ipykernel_launcher.py:5: SettingWithCopyWarning: \n",
      "A value is trying to be set on a copy of a slice from a DataFrame.\n",
      "Try using .loc[row_indexer,col_indexer] = value instead\n",
      "\n",
      "See the caveats in the documentation: http://pandas.pydata.org/pandas-docs/stable/indexing.html#indexing-view-versus-copy\n",
      "  \"\"\"\n",
      "/Users/xuqiantan/anaconda3/lib/python3.7/site-packages/pandas/core/frame.py:3697: SettingWithCopyWarning: \n",
      "A value is trying to be set on a copy of a slice from a DataFrame\n",
      "\n",
      "See the caveats in the documentation: http://pandas.pydata.org/pandas-docs/stable/indexing.html#indexing-view-versus-copy\n",
      "  errors=errors)\n"
     ]
    },
    {
     "data": {
      "text/html": [
       "<div>\n",
       "<style scoped>\n",
       "    .dataframe tbody tr th:only-of-type {\n",
       "        vertical-align: middle;\n",
       "    }\n",
       "\n",
       "    .dataframe tbody tr th {\n",
       "        vertical-align: top;\n",
       "    }\n",
       "\n",
       "    .dataframe thead th {\n",
       "        text-align: right;\n",
       "    }\n",
       "</style>\n",
       "<table border=\"1\" class=\"dataframe\">\n",
       "  <thead>\n",
       "    <tr style=\"text-align: right;\">\n",
       "      <th></th>\n",
       "      <th>UNITID</th>\n",
       "      <th>ARANK</th>\n",
       "      <th>HRTOTLT</th>\n",
       "      <th>HRTOTLM</th>\n",
       "      <th>HRTOTLW</th>\n",
       "      <th>HRAIANT</th>\n",
       "      <th>HRAIANM</th>\n",
       "      <th>HRAIANW</th>\n",
       "      <th>HRASIAT</th>\n",
       "      <th>HRASIAM</th>\n",
       "      <th>...</th>\n",
       "      <th>HRWHITT</th>\n",
       "      <th>HRWHITM</th>\n",
       "      <th>HRWHITW</th>\n",
       "      <th>HR2MORT</th>\n",
       "      <th>HR2MORM</th>\n",
       "      <th>HR2MORW</th>\n",
       "      <th>HRUNKNT</th>\n",
       "      <th>HRUNKNM</th>\n",
       "      <th>HRUNKNW</th>\n",
       "      <th>HRNRALT</th>\n",
       "    </tr>\n",
       "  </thead>\n",
       "  <tbody>\n",
       "    <tr>\n",
       "      <th>48</th>\n",
       "      <td>100724</td>\n",
       "      <td>1</td>\n",
       "      <td>55</td>\n",
       "      <td>38</td>\n",
       "      <td>17</td>\n",
       "      <td>2.0</td>\n",
       "      <td>1.0</td>\n",
       "      <td>1.0</td>\n",
       "      <td>11.0</td>\n",
       "      <td>10.0</td>\n",
       "      <td>...</td>\n",
       "      <td>20.0</td>\n",
       "      <td>18.0</td>\n",
       "      <td>2.0</td>\n",
       "      <td>0.0</td>\n",
       "      <td>0.0</td>\n",
       "      <td>0.0</td>\n",
       "      <td>0</td>\n",
       "      <td>0</td>\n",
       "      <td>0</td>\n",
       "      <td>0</td>\n",
       "    </tr>\n",
       "    <tr>\n",
       "      <th>49</th>\n",
       "      <td>100724</td>\n",
       "      <td>2</td>\n",
       "      <td>39</td>\n",
       "      <td>14</td>\n",
       "      <td>25</td>\n",
       "      <td>0.0</td>\n",
       "      <td>0.0</td>\n",
       "      <td>0.0</td>\n",
       "      <td>4.0</td>\n",
       "      <td>4.0</td>\n",
       "      <td>...</td>\n",
       "      <td>11.0</td>\n",
       "      <td>5.0</td>\n",
       "      <td>6.0</td>\n",
       "      <td>0.0</td>\n",
       "      <td>0.0</td>\n",
       "      <td>0.0</td>\n",
       "      <td>0</td>\n",
       "      <td>0</td>\n",
       "      <td>0</td>\n",
       "      <td>0</td>\n",
       "    </tr>\n",
       "    <tr>\n",
       "      <th>50</th>\n",
       "      <td>100724</td>\n",
       "      <td>3</td>\n",
       "      <td>10</td>\n",
       "      <td>3</td>\n",
       "      <td>7</td>\n",
       "      <td>0.0</td>\n",
       "      <td>0.0</td>\n",
       "      <td>0.0</td>\n",
       "      <td>0.0</td>\n",
       "      <td>0.0</td>\n",
       "      <td>...</td>\n",
       "      <td>4.0</td>\n",
       "      <td>3.0</td>\n",
       "      <td>1.0</td>\n",
       "      <td>0.0</td>\n",
       "      <td>0.0</td>\n",
       "      <td>0.0</td>\n",
       "      <td>0</td>\n",
       "      <td>0</td>\n",
       "      <td>0</td>\n",
       "      <td>0</td>\n",
       "    </tr>\n",
       "    <tr>\n",
       "      <th>51</th>\n",
       "      <td>100724</td>\n",
       "      <td>4</td>\n",
       "      <td>2</td>\n",
       "      <td>0</td>\n",
       "      <td>2</td>\n",
       "      <td>0.0</td>\n",
       "      <td>0.0</td>\n",
       "      <td>0.0</td>\n",
       "      <td>0.0</td>\n",
       "      <td>0.0</td>\n",
       "      <td>...</td>\n",
       "      <td>0.0</td>\n",
       "      <td>0.0</td>\n",
       "      <td>0.0</td>\n",
       "      <td>0.0</td>\n",
       "      <td>0.0</td>\n",
       "      <td>0.0</td>\n",
       "      <td>0</td>\n",
       "      <td>0</td>\n",
       "      <td>0</td>\n",
       "      <td>0</td>\n",
       "    </tr>\n",
       "    <tr>\n",
       "      <th>52</th>\n",
       "      <td>100724</td>\n",
       "      <td>7</td>\n",
       "      <td>106</td>\n",
       "      <td>55</td>\n",
       "      <td>51</td>\n",
       "      <td>2.0</td>\n",
       "      <td>1.0</td>\n",
       "      <td>1.0</td>\n",
       "      <td>15.0</td>\n",
       "      <td>14.0</td>\n",
       "      <td>...</td>\n",
       "      <td>35.0</td>\n",
       "      <td>26.0</td>\n",
       "      <td>9.0</td>\n",
       "      <td>0.0</td>\n",
       "      <td>0.0</td>\n",
       "      <td>0.0</td>\n",
       "      <td>0</td>\n",
       "      <td>0</td>\n",
       "      <td>0</td>\n",
       "      <td>0</td>\n",
       "    </tr>\n",
       "  </tbody>\n",
       "</table>\n",
       "<p>5 rows × 30 columns</p>\n",
       "</div>"
      ],
      "text/plain": [
       "    UNITID  ARANK  HRTOTLT  HRTOTLM  HRTOTLW  HRAIANT  HRAIANM  HRAIANW  \\\n",
       "48  100724      1       55       38       17      2.0      1.0      1.0   \n",
       "49  100724      2       39       14       25      0.0      0.0      0.0   \n",
       "50  100724      3       10        3        7      0.0      0.0      0.0   \n",
       "51  100724      4        2        0        2      0.0      0.0      0.0   \n",
       "52  100724      7      106       55       51      2.0      1.0      1.0   \n",
       "\n",
       "    HRASIAT  HRASIAM   ...     HRWHITT  HRWHITM  HRWHITW  HR2MORT  HR2MORM  \\\n",
       "48     11.0     10.0   ...        20.0     18.0      2.0      0.0      0.0   \n",
       "49      4.0      4.0   ...        11.0      5.0      6.0      0.0      0.0   \n",
       "50      0.0      0.0   ...         4.0      3.0      1.0      0.0      0.0   \n",
       "51      0.0      0.0   ...         0.0      0.0      0.0      0.0      0.0   \n",
       "52     15.0     14.0   ...        35.0     26.0      9.0      0.0      0.0   \n",
       "\n",
       "    HR2MORW  HRUNKNT  HRUNKNM  HRUNKNW  HRNRALT  \n",
       "48      0.0        0        0        0        0  \n",
       "49      0.0        0        0        0        0  \n",
       "50      0.0        0        0        0        0  \n",
       "51      0.0        0        0        0        0  \n",
       "52      0.0        0        0        0        0  \n",
       "\n",
       "[5 rows x 30 columns]"
      ]
     },
     "execution_count": 8,
     "metadata": {},
     "output_type": "execute_result"
    }
   ],
   "source": [
    "# Drop the column with alien people data\n",
    "for df_i in df_list:\n",
    "    df_i['HRTOTLM'] = df_i['HRTOTLM'] - df_i['HRNRALM'] \n",
    "    df_i['HRTOTLW'] = df_i['HRTOTLW'] - df_i['HRNRALW '] \n",
    "    df_i['HRTOTLT'] = df_i['HRTOTLM'] + df_i['HRTOTLW']\n",
    "    df_i.drop(columns=['HRNRALM','HRNRALW '],inplace=True)\n",
    "df_list[0].head()"
   ]
  },
  {
   "cell_type": "markdown",
   "metadata": {},
   "source": [
    "### Unify row format\n",
    "Here, we are only interested in the total number of employments in each school under the classification of gender and race. So, we do sum of all types of employment by school ID."
   ]
  },
  {
   "cell_type": "code",
   "execution_count": 9,
   "metadata": {
    "scrolled": true
   },
   "outputs": [
    {
     "name": "stdout",
     "output_type": "stream",
     "text": [
      "(1501, 29)\n",
      "(1501, 29)\n",
      "(1501, 29)\n",
      "(1501, 29)\n",
      "(1501, 29)\n"
     ]
    },
    {
     "data": {
      "text/html": [
       "<div>\n",
       "<style scoped>\n",
       "    .dataframe tbody tr th:only-of-type {\n",
       "        vertical-align: middle;\n",
       "    }\n",
       "\n",
       "    .dataframe tbody tr th {\n",
       "        vertical-align: top;\n",
       "    }\n",
       "\n",
       "    .dataframe thead th {\n",
       "        text-align: right;\n",
       "    }\n",
       "</style>\n",
       "<table border=\"1\" class=\"dataframe\">\n",
       "  <thead>\n",
       "    <tr style=\"text-align: right;\">\n",
       "      <th></th>\n",
       "      <th>ARANK</th>\n",
       "      <th>HRTOTLT</th>\n",
       "      <th>HRTOTLM</th>\n",
       "      <th>HRTOTLW</th>\n",
       "      <th>HRAIANT</th>\n",
       "      <th>HRAIANM</th>\n",
       "      <th>HRAIANW</th>\n",
       "      <th>HRASIAT</th>\n",
       "      <th>HRASIAM</th>\n",
       "      <th>HRASIAW</th>\n",
       "      <th>...</th>\n",
       "      <th>HRWHITT</th>\n",
       "      <th>HRWHITM</th>\n",
       "      <th>HRWHITW</th>\n",
       "      <th>HR2MORT</th>\n",
       "      <th>HR2MORM</th>\n",
       "      <th>HR2MORW</th>\n",
       "      <th>HRUNKNT</th>\n",
       "      <th>HRUNKNM</th>\n",
       "      <th>HRUNKNW</th>\n",
       "      <th>HRNRALT</th>\n",
       "    </tr>\n",
       "    <tr>\n",
       "      <th>UNITID</th>\n",
       "      <th></th>\n",
       "      <th></th>\n",
       "      <th></th>\n",
       "      <th></th>\n",
       "      <th></th>\n",
       "      <th></th>\n",
       "      <th></th>\n",
       "      <th></th>\n",
       "      <th></th>\n",
       "      <th></th>\n",
       "      <th></th>\n",
       "      <th></th>\n",
       "      <th></th>\n",
       "      <th></th>\n",
       "      <th></th>\n",
       "      <th></th>\n",
       "      <th></th>\n",
       "      <th></th>\n",
       "      <th></th>\n",
       "      <th></th>\n",
       "      <th></th>\n",
       "    </tr>\n",
       "  </thead>\n",
       "  <tbody>\n",
       "    <tr>\n",
       "      <th>100724</th>\n",
       "      <td>178</td>\n",
       "      <td>723</td>\n",
       "      <td>330</td>\n",
       "      <td>393</td>\n",
       "      <td>9.0</td>\n",
       "      <td>6.0</td>\n",
       "      <td>3.0</td>\n",
       "      <td>63.0</td>\n",
       "      <td>51.0</td>\n",
       "      <td>12.0</td>\n",
       "      <td>...</td>\n",
       "      <td>195.0</td>\n",
       "      <td>114.0</td>\n",
       "      <td>81.0</td>\n",
       "      <td>0.0</td>\n",
       "      <td>0.0</td>\n",
       "      <td>0.0</td>\n",
       "      <td>0</td>\n",
       "      <td>0</td>\n",
       "      <td>0</td>\n",
       "      <td>0</td>\n",
       "    </tr>\n",
       "    <tr>\n",
       "      <th>100760</th>\n",
       "      <td>62</td>\n",
       "      <td>168</td>\n",
       "      <td>78</td>\n",
       "      <td>90</td>\n",
       "      <td>0.0</td>\n",
       "      <td>0.0</td>\n",
       "      <td>0.0</td>\n",
       "      <td>0.0</td>\n",
       "      <td>0.0</td>\n",
       "      <td>0.0</td>\n",
       "      <td>...</td>\n",
       "      <td>156.0</td>\n",
       "      <td>75.0</td>\n",
       "      <td>81.0</td>\n",
       "      <td>0.0</td>\n",
       "      <td>0.0</td>\n",
       "      <td>0.0</td>\n",
       "      <td>0</td>\n",
       "      <td>0</td>\n",
       "      <td>0</td>\n",
       "      <td>0</td>\n",
       "    </tr>\n",
       "    <tr>\n",
       "      <th>100937</th>\n",
       "      <td>123</td>\n",
       "      <td>330</td>\n",
       "      <td>189</td>\n",
       "      <td>141</td>\n",
       "      <td>0.0</td>\n",
       "      <td>0.0</td>\n",
       "      <td>0.0</td>\n",
       "      <td>0.0</td>\n",
       "      <td>0.0</td>\n",
       "      <td>0.0</td>\n",
       "      <td>...</td>\n",
       "      <td>321.0</td>\n",
       "      <td>189.0</td>\n",
       "      <td>132.0</td>\n",
       "      <td>3.0</td>\n",
       "      <td>0.0</td>\n",
       "      <td>3.0</td>\n",
       "      <td>0</td>\n",
       "      <td>0</td>\n",
       "      <td>0</td>\n",
       "      <td>0</td>\n",
       "    </tr>\n",
       "    <tr>\n",
       "      <th>101028</th>\n",
       "      <td>62</td>\n",
       "      <td>108</td>\n",
       "      <td>24</td>\n",
       "      <td>84</td>\n",
       "      <td>0.0</td>\n",
       "      <td>0.0</td>\n",
       "      <td>0.0</td>\n",
       "      <td>0.0</td>\n",
       "      <td>0.0</td>\n",
       "      <td>0.0</td>\n",
       "      <td>...</td>\n",
       "      <td>87.0</td>\n",
       "      <td>15.0</td>\n",
       "      <td>72.0</td>\n",
       "      <td>0.0</td>\n",
       "      <td>0.0</td>\n",
       "      <td>0.0</td>\n",
       "      <td>0</td>\n",
       "      <td>0</td>\n",
       "      <td>0</td>\n",
       "      <td>0</td>\n",
       "    </tr>\n",
       "    <tr>\n",
       "      <th>101116</th>\n",
       "      <td>94</td>\n",
       "      <td>54</td>\n",
       "      <td>27</td>\n",
       "      <td>27</td>\n",
       "      <td>0.0</td>\n",
       "      <td>0.0</td>\n",
       "      <td>0.0</td>\n",
       "      <td>3.0</td>\n",
       "      <td>3.0</td>\n",
       "      <td>0.0</td>\n",
       "      <td>...</td>\n",
       "      <td>45.0</td>\n",
       "      <td>21.0</td>\n",
       "      <td>24.0</td>\n",
       "      <td>0.0</td>\n",
       "      <td>0.0</td>\n",
       "      <td>0.0</td>\n",
       "      <td>0</td>\n",
       "      <td>0</td>\n",
       "      <td>0</td>\n",
       "      <td>0</td>\n",
       "    </tr>\n",
       "  </tbody>\n",
       "</table>\n",
       "<p>5 rows × 29 columns</p>\n",
       "</div>"
      ],
      "text/plain": [
       "        ARANK  HRTOTLT  HRTOTLM  HRTOTLW  HRAIANT  HRAIANM  HRAIANW  HRASIAT  \\\n",
       "UNITID                                                                         \n",
       "100724    178      723      330      393      9.0      6.0      3.0     63.0   \n",
       "100760     62      168       78       90      0.0      0.0      0.0      0.0   \n",
       "100937    123      330      189      141      0.0      0.0      0.0      0.0   \n",
       "101028     62      108       24       84      0.0      0.0      0.0      0.0   \n",
       "101116     94       54       27       27      0.0      0.0      0.0      3.0   \n",
       "\n",
       "        HRASIAM  HRASIAW   ...     HRWHITT  HRWHITM  HRWHITW  HR2MORT  \\\n",
       "UNITID                     ...                                          \n",
       "100724     51.0     12.0   ...       195.0    114.0     81.0      0.0   \n",
       "100760      0.0      0.0   ...       156.0     75.0     81.0      0.0   \n",
       "100937      0.0      0.0   ...       321.0    189.0    132.0      3.0   \n",
       "101028      0.0      0.0   ...        87.0     15.0     72.0      0.0   \n",
       "101116      3.0      0.0   ...        45.0     21.0     24.0      0.0   \n",
       "\n",
       "        HR2MORM  HR2MORW  HRUNKNT  HRUNKNM  HRUNKNW  HRNRALT  \n",
       "UNITID                                                        \n",
       "100724      0.0      0.0        0        0        0        0  \n",
       "100760      0.0      0.0        0        0        0        0  \n",
       "100937      0.0      3.0        0        0        0        0  \n",
       "101028      0.0      0.0        0        0        0        0  \n",
       "101116      0.0      0.0        0        0        0        0  \n",
       "\n",
       "[5 rows x 29 columns]"
      ]
     },
     "execution_count": 9,
     "metadata": {},
     "output_type": "execute_result"
    }
   ],
   "source": [
    "for i in np.arange(5):\n",
    "    df_list[i] = df_list[i].groupby(['UNITID']).sum()\n",
    "    # Print the shape for debug\n",
    "    print(df_list[i].shape)\n",
    "df_list[0].head()"
   ]
  },
  {
   "cell_type": "markdown",
   "metadata": {},
   "source": [
    "### Add school metadata"
   ]
  },
  {
   "cell_type": "markdown",
   "metadata": {},
   "source": [
    "Now that we have a cleaned dataframe for each year, let's also clean up some metadata that might be useful down the road. As we are exploring the racial and gender diversity of all institutes, it may be helpful to dig deeper and check to see if the results differ by region or by state. Therefore, we will clean up a school metadata file."
   ]
  },
  {
   "cell_type": "code",
   "execution_count": 10,
   "metadata": {},
   "outputs": [],
   "source": [
    "# read in institutional information data file\n",
    "# target year 2009, 2011,2013, 2015, 2017\n",
    "school11 = pd.read_csv('data/school_metadata/hd2011.csv', encoding ='latin1')"
   ]
  },
  {
   "cell_type": "markdown",
   "metadata": {},
   "source": [
    "Here, we are primarily interested in the **institution name**, **state** of the school, and the larger **geographic region** it is in. Let's subset and rename those columns. "
   ]
  },
  {
   "cell_type": "code",
   "execution_count": 11,
   "metadata": {},
   "outputs": [],
   "source": [
    "# leave only the columns of interest\n",
    "school11 = school11[[\"UNITID\", \"INSTNM\",\"STABBR\", \"OBEREG\"]]\n",
    "# rename the columns\n",
    "school11.columns = [\"UNITID\", \"Institution Name\", \"State\", \"Region\"]"
   ]
  },
  {
   "cell_type": "markdown",
   "metadata": {},
   "source": [
    "We notice that the regions are encoded with numbers. Let's change it to the corresponding regions outlined in the variable dictionary."
   ]
  },
  {
   "cell_type": "code",
   "execution_count": 12,
   "metadata": {},
   "outputs": [
    {
     "data": {
      "text/html": [
       "<div>\n",
       "<style scoped>\n",
       "    .dataframe tbody tr th:only-of-type {\n",
       "        vertical-align: middle;\n",
       "    }\n",
       "\n",
       "    .dataframe tbody tr th {\n",
       "        vertical-align: top;\n",
       "    }\n",
       "\n",
       "    .dataframe thead th {\n",
       "        text-align: right;\n",
       "    }\n",
       "</style>\n",
       "<table border=\"1\" class=\"dataframe\">\n",
       "  <thead>\n",
       "    <tr style=\"text-align: right;\">\n",
       "      <th></th>\n",
       "      <th>UNITID</th>\n",
       "      <th>Institution Name</th>\n",
       "      <th>State</th>\n",
       "      <th>Region</th>\n",
       "    </tr>\n",
       "  </thead>\n",
       "  <tbody>\n",
       "    <tr>\n",
       "      <th>5</th>\n",
       "      <td>100724</td>\n",
       "      <td>Alabama State University</td>\n",
       "      <td>AL</td>\n",
       "      <td>Southeast</td>\n",
       "    </tr>\n",
       "    <tr>\n",
       "      <th>8</th>\n",
       "      <td>100760</td>\n",
       "      <td>Central Alabama Community College</td>\n",
       "      <td>AL</td>\n",
       "      <td>Southeast</td>\n",
       "    </tr>\n",
       "    <tr>\n",
       "      <th>12</th>\n",
       "      <td>100937</td>\n",
       "      <td>Birmingham Southern College</td>\n",
       "      <td>AL</td>\n",
       "      <td>Southeast</td>\n",
       "    </tr>\n",
       "    <tr>\n",
       "      <th>13</th>\n",
       "      <td>101028</td>\n",
       "      <td>Chattahoochee Valley Community College</td>\n",
       "      <td>AL</td>\n",
       "      <td>Southeast</td>\n",
       "    </tr>\n",
       "    <tr>\n",
       "      <th>15</th>\n",
       "      <td>101116</td>\n",
       "      <td>South University-Montgomery</td>\n",
       "      <td>AL</td>\n",
       "      <td>Southeast</td>\n",
       "    </tr>\n",
       "  </tbody>\n",
       "</table>\n",
       "</div>"
      ],
      "text/plain": [
       "    UNITID                        Institution Name State     Region\n",
       "5   100724                Alabama State University    AL  Southeast\n",
       "8   100760       Central Alabama Community College    AL  Southeast\n",
       "12  100937             Birmingham Southern College    AL  Southeast\n",
       "13  101028  Chattahoochee Valley Community College    AL  Southeast\n",
       "15  101116             South University-Montgomery    AL  Southeast"
      ]
     },
     "execution_count": 12,
     "metadata": {},
     "output_type": "execute_result"
    }
   ],
   "source": [
    "# build a dictionary\n",
    "region_code = {0: \"US Service schools\",\n",
    "1 : \"New England\",\n",
    "2 : \"Mid East\",\n",
    "3 : \"Great Lakes\",\n",
    "4 : \"Plains\",\n",
    "5 : \"Southeast\", \n",
    "6 : \"Southwest\", \n",
    "7 : \"Rocky Mountains\",\n",
    "8 : \"Far West\",\n",
    "9 : \"Outlying areas\",\n",
    "-3 : \"Not available\"}\n",
    "# map that to the region column\n",
    "school11[\"Region\"] = school11[\"Region\"].map(region_code)\n",
    "# subset only the schools that occured in all years\n",
    "df_school_meta = school11.loc[school11['UNITID'].isin(list(intersect_id))]\n",
    "# take a look at the dataframe\n",
    "df_school_meta.head()"
   ]
  },
  {
   "cell_type": "markdown",
   "metadata": {},
   "source": [
    "## Data Analysis and Visualization"
   ]
  },
  {
   "cell_type": "markdown",
   "metadata": {},
   "source": [
    "We can now start our analysis. After cleaning, we have a list of 5 dataframes, each containing one year of data. Within each year's data, we have information of the school ID, the counts of instructional employees in each racial and gender group."
   ]
  },
  {
   "cell_type": "markdown",
   "metadata": {},
   "source": [
    "## Gender Analysis"
   ]
  },
  {
   "cell_type": "markdown",
   "metadata": {},
   "source": [
    "First we start with gender analysis. The gender vector is binary: it could only be male or female. As we wish to explore the gender diveristy in the educational sphere, let's first see if the gender ratio is a good reflection of the overall U.S. population. As the mean and standard deviation for the true population is unknown, we decide to perform a one-sample t-test. "
   ]
  },
  {
   "cell_type": "markdown",
   "metadata": {},
   "source": [
    "### One-Sample t-test for the gender proportions"
   ]
  },
  {
   "cell_type": "markdown",
   "metadata": {},
   "source": [
    "We are going to get the gender distribution of United States as the populaiton gender distribution from the 2010 U.S census data. From the 2010 U.S census, there is a total of 308,745,538 people in the United States, where 156,964,212 of them are females and 151,781,326 are males. We are going to use the Male proportion to represent the gender distribution of 2010 U.S census data.  [Source](https://www.census.gov/prod/cen2010/briefs/c2010br-03.pdf)"
   ]
  },
  {
   "cell_type": "code",
   "execution_count": 13,
   "metadata": {},
   "outputs": [],
   "source": [
    "# get the population male porpotion to represent population gender distribution\n",
    "pop_gender = 151781326/308745538"
   ]
  },
  {
   "cell_type": "markdown",
   "metadata": {},
   "source": [
    "We want to see if the academic workspace is a good reflection of the general population regarding with gender distribution. Therefore, we will perform a one-sample t-test to see if the gender distribution of samples from educational institutions are within normal variations of the U.S. gender distribution by evaluating the p-value of test result. \n",
    "\n",
    "**Null Hypothesis (H0)**: The sample and the population are within the normal variations of the population\n",
    "\n",
    "**Alternative Hypothesis (H1)**: The sample and the population are NOT within the normal variations of the population. "
   ]
  },
  {
   "cell_type": "code",
   "execution_count": 14,
   "metadata": {},
   "outputs": [
    {
     "data": {
      "text/html": [
       "<div>\n",
       "<style scoped>\n",
       "    .dataframe tbody tr th:only-of-type {\n",
       "        vertical-align: middle;\n",
       "    }\n",
       "\n",
       "    .dataframe tbody tr th {\n",
       "        vertical-align: top;\n",
       "    }\n",
       "\n",
       "    .dataframe thead th {\n",
       "        text-align: right;\n",
       "    }\n",
       "</style>\n",
       "<table border=\"1\" class=\"dataframe\">\n",
       "  <thead>\n",
       "    <tr style=\"text-align: right;\">\n",
       "      <th></th>\n",
       "      <th>year</th>\n",
       "      <th>significantly different</th>\n",
       "      <th>p value</th>\n",
       "    </tr>\n",
       "  </thead>\n",
       "  <tbody>\n",
       "    <tr>\n",
       "      <th>0</th>\n",
       "      <td>9</td>\n",
       "      <td>True</td>\n",
       "      <td>1.005539e-07</td>\n",
       "    </tr>\n",
       "    <tr>\n",
       "      <th>1</th>\n",
       "      <td>11</td>\n",
       "      <td>True</td>\n",
       "      <td>5.423910e-04</td>\n",
       "    </tr>\n",
       "    <tr>\n",
       "      <th>2</th>\n",
       "      <td>13</td>\n",
       "      <td>False</td>\n",
       "      <td>2.023944e-01</td>\n",
       "    </tr>\n",
       "    <tr>\n",
       "      <th>3</th>\n",
       "      <td>15</td>\n",
       "      <td>False</td>\n",
       "      <td>5.409298e-01</td>\n",
       "    </tr>\n",
       "    <tr>\n",
       "      <th>4</th>\n",
       "      <td>17</td>\n",
       "      <td>False</td>\n",
       "      <td>7.871864e-01</td>\n",
       "    </tr>\n",
       "  </tbody>\n",
       "</table>\n",
       "</div>"
      ],
      "text/plain": [
       "  year significantly different       p value\n",
       "0    9                    True  1.005539e-07\n",
       "1   11                    True  5.423910e-04\n",
       "2   13                   False  2.023944e-01\n",
       "3   15                   False  5.409298e-01\n",
       "4   17                   False  7.871864e-01"
      ]
     },
     "execution_count": 14,
     "metadata": {},
     "output_type": "execute_result"
    }
   ],
   "source": [
    "# set up a dataframe of t-test result for visualization\n",
    "years = [9, 11, 13, 15, 17]\n",
    "df_ttest = pd.DataFrame(columns = [\"year\", \"significantly different\", \"p value\"])\n",
    "\n",
    "for i in np.arange(5):\n",
    "    # perfrom one-sample t-test\n",
    "    t_stats, gender_p_val = stats.ttest_1samp(df_list[i][\"HRTOTLM\"]/df_list[i][\"HRTOTLT\"], pop_gender)\n",
    "    # We use the arbitary 0.05 cutoff\n",
    "    # if p value < 0.05, we reject the null hypothesis\n",
    "    if gender_p_val < 0.05:\n",
    "        result = True\n",
    "    else:\n",
    "        result = False\n",
    "    df_ttest = df_ttest.append(pd.Series([years[i], result, gender_p_val], index = df_ttest.columns),ignore_index = True )\n",
    "\n",
    "df_ttest"
   ]
  },
  {
   "cell_type": "markdown",
   "metadata": {},
   "source": [
    "### Gender distribution scatter plot with base line"
   ]
  },
  {
   "cell_type": "markdown",
   "metadata": {},
   "source": [
    "We are going to make a scatter plot of the gender distribution of instructional employees in the U.S. postsecondary educational institutions each year to better visualize the data changes. Each year’s male proportion is treated as a data point, and the male proportion from 2010 U.S census is ploted as a reference line. This way we could have a sense of to what extent the gender diversity has changed in postsecondary educational institutions from 2009 to 2017. "
   ]
  },
  {
   "cell_type": "code",
   "execution_count": 15,
   "metadata": {},
   "outputs": [
    {
     "data": {
      "image/png": "[encoded data removed]",
      "text/plain": [
       "<Figure size 432x288 with 1 Axes>"
      ]
     },
     "metadata": {
      "needs_background": "light"
     },
     "output_type": "display_data"
    }
   ],
   "source": [
    "# set up a dataframe for year and Male Ratio of each year's sample\n",
    "years = [9, 11, 13, 15, 17]\n",
    "df_gender_scatter = pd.DataFrame(columns = [\"year\", \"Male Ratio\"])\n",
    "\n",
    "for i in np.arange(5):\n",
    "    # Calculating Male Ratio for each year\n",
    "    Male_ratio = sum(df_list[i][\"HRTOTLM\"])/sum(df_list[i][\"HRTOTLT\"])\n",
    "    # Add the result to gender ratio dataframe created above\n",
    "    df_gender_scatter = df_gender_scatter.append(pd.Series([years[i],Male_ratio], index = df_gender_scatter.columns),ignore_index = True )\n",
    "\n",
    "# Make a scatter plot with Male Ratio as y-axis and year as x-axis\n",
    "plt.scatter(df_gender_scatter[\"year\"], df_gender_scatter[\"Male Ratio\"])\n",
    "plt.title(\"Gender Scatter Plot with Base Line\")\n",
    "plt.xlabel(\"Years\")\n",
    "plt.ylabel(\"Male Ratio\")\n",
    "\n",
    "# Add population Male Ratio as a base line \n",
    "plt.plot([9,17], [pop_gender, pop_gender], color = \"r\")\n",
    "\n",
    "# Show the resulted scatter plot\n",
    "plt.show()\n"
   ]
  },
  {
   "cell_type": "markdown",
   "metadata": {},
   "source": [
    "#### Interpretation of the t-test result and the scatter plot\n",
    "From the t-test results table we can see that the gender proportion of the instructional employees in the U.S. postsecondary educational institutions was significantly different from the U.S. census from 2009 to 2017. The following years' gender distributions are all within the normal variations. From the scatter plot we can see that the male porpotion is getting closer to the population male porpotion each year, indicating there are more females employed and the gender distribution is getting more and more balanced. \n",
    "\n",
    "It's worth noticing that the data we are using for instructional employees in the U.S. postsecondary educational institutions has changed their census method starting from 2011. However, the changes was only in the way they are clustering different races, which does not affect our interpretation to the gender distribution. "
   ]
  },
  {
   "cell_type": "markdown",
   "metadata": {},
   "source": [
    "### Stacked bar chart by states for gender porpotion\n",
    "- In this section, we'll map each institution to its home state. \n",
    "- Then we standardize number of instructional employees from both genders to ratios. \n",
    "- Finally we plot the overall gender ratio of each states by visualizing their variance from the national mean (pop_gender = 0.492)\n",
    "- In the resulting plot, red bars towards the right indicate more male population than national mean\n",
    "- In the resulting plot, blue bars towards the left indicate more female population than national mean"
   ]
  },
  {
   "cell_type": "markdown",
   "metadata": {},
   "source": [
    "### Gender by States in 2009"
   ]
  },
  {
   "cell_type": "code",
   "execution_count": 16,
   "metadata": {},
   "outputs": [
    {
     "data": {
      "text/plain": [
       "<matplotlib.axes._subplots.AxesSubplot at 0x1c22aff780>"
      ]
     },
     "execution_count": 16,
     "metadata": {},
     "output_type": "execute_result"
    },
    {
     "data": {
      "image/png": "[encoded data removed]",
      "text/plain": [
       "<Figure size 360x864 with 1 Axes>"
      ]
     },
     "metadata": {
      "needs_background": "light"
     },
     "output_type": "display_data"
    }
   ],
   "source": [
    "\n",
    "# re-organize data frame\n",
    "temp = pd.merge(df_list[0], df_school_meta, on = 'UNITID', how = 'left')\n",
    "\n",
    "# Compute State Sum\n",
    "df_state = temp.groupby(['State']).sum()\n",
    "\n",
    "# Convert Number to Ratio\n",
    "df_state['HRTOTLM'] = df_state['HRTOTLM'] / df_state['HRTOTLT']\n",
    "df_state['HRTOTLW'] = df_state['HRTOTLW'] / df_state['HRTOTLT']\n",
    "state = df_state[['HRTOTLM', 'HRTOTLW']]\n",
    "\n",
    "# Compute Deviation from national mean ratio 0.492\n",
    "state_n = pd.DataFrame(columns=[\"Men\", \"positive\"])\n",
    "state_n[\"Men\"] = df_state['HRTOTLM'] - pop_gender\n",
    "state_n['positive'] = state_n[\"Men\"] > 0\n",
    "\n",
    "# Plot the bar chart\n",
    "state_n[\"Men\"].plot(kind='barh', figsize=(5,12), color=state_n.positive.map({True: 'red', False: 'blue'}))"
   ]
  },
  {
   "cell_type": "markdown",
   "metadata": {},
   "source": [
    "### Gender by State in 2017"
   ]
  },
  {
   "cell_type": "code",
   "execution_count": 17,
   "metadata": {},
   "outputs": [
    {
     "data": {
      "text/plain": [
       "<matplotlib.axes._subplots.AxesSubplot at 0x1c2252a978>"
      ]
     },
     "execution_count": 17,
     "metadata": {},
     "output_type": "execute_result"
    },
    {
     "data": {
      "image/png": "[encoded data removed]",
      "text/plain": [
       "<Figure size 360x864 with 1 Axes>"
      ]
     },
     "metadata": {
      "needs_background": "light"
     },
     "output_type": "display_data"
    }
   ],
   "source": [
    "# re-organize data frame\n",
    "temp = pd.merge(df_list[4], df_school_meta, on = 'UNITID', how = 'left')\n",
    "\n",
    "# Compute State Sum\n",
    "df_state = temp.groupby(['State']).sum()\n",
    "\n",
    "# Convert Number to Ratio\n",
    "df_state['HRTOTLM'] = df_state['HRTOTLM'] / df_state['HRTOTLT']\n",
    "df_state['HRTOTLW'] = df_state['HRTOTLW'] / df_state['HRTOTLT']\n",
    "state = df_state[['HRTOTLM', 'HRTOTLW']]\n",
    "\n",
    "# Compute Deviation from national mean ratio 0.492\n",
    "state_n = pd.DataFrame(columns=[\"Men\", \"positive\"])\n",
    "state_n[\"Men\"] = df_state['HRTOTLM'] - pop_gender\n",
    "state_n['positive'] = state_n[\"Men\"] > 0\n",
    "\n",
    "# Plot the bar chart\n",
    "state_n[\"Men\"].plot(kind='barh', figsize=(5,12), color=state_n.positive.map({True: 'red', False: 'blue'}))"
   ]
  },
  {
   "cell_type": "markdown",
   "metadata": {},
   "source": [
    "#### Gender by States Result:\n",
    "Comparing the gender by states stacked bar chart from 2009 to that from 2017, we observed an obvious change in gender composition in instructional employees\n",
    "- The number of states have higher ratio of male employees decreased\n",
    "- The number of states have higher ratio of female employees increased\n",
    "- The overall gender composition moves towards national mean of 0.492\n",
    "- Small states with significant lower population may be potential outliers in this dataset, as they exhibit unstable distribution.\n",
    "- As we cannot acquire gender composition for each state, we use the national mean as expected standard. However, we shall acknowldege that there might be variance in state by state cases, and the above analysis is not within State analysis"
   ]
  },
  {
   "cell_type": "markdown",
   "metadata": {},
   "source": [
    "### Stacked bar chart by region for gender porpotion\n",
    "- Here we perform the same analysis as gender by states above, but we group the geographic category by regions\n",
    "- Regions Categories include:\n",
    "    - US Service Schools\n",
    "    - Southwest\n",
    "    - Southeast\n",
    "    - Rocky Mountains\n",
    "    - Plains\n",
    "    - Outlying Areas\n",
    "    - New England\n",
    "    - Mid East\n",
    "    - Great Lakes\n",
    "    - Far West"
   ]
  },
  {
   "cell_type": "markdown",
   "metadata": {},
   "source": [
    "### Gender by Region in 2009"
   ]
  },
  {
   "cell_type": "code",
   "execution_count": 18,
   "metadata": {
    "scrolled": true
   },
   "outputs": [
    {
     "data": {
      "text/plain": [
       "<matplotlib.axes._subplots.AxesSubplot at 0x1c228dd400>"
      ]
     },
     "execution_count": 18,
     "metadata": {},
     "output_type": "execute_result"
    },
    {
     "data": {
      "image/png": "[encoded data removed]",
      "text/plain": [
       "<Figure size 432x288 with 1 Axes>"
      ]
     },
     "metadata": {
      "needs_background": "light"
     },
     "output_type": "display_data"
    }
   ],
   "source": [
    "# re-organize data frame\n",
    "temp = pd.merge(df_list[0], df_school_meta, on = 'UNITID', how = 'left')\n",
    "\n",
    "# Compute Region Sum\n",
    "df_region = temp.groupby(['Region']).sum()\n",
    "\n",
    "# Convert Number to Ratio\n",
    "df_region['HRTOTLM'] = df_region['HRTOTLM'] / df_region['HRTOTLT']\n",
    "df_region['HRTOTLW'] = df_region['HRTOTLW'] / df_region['HRTOTLT']\n",
    "region = df_region[['HRTOTLM', 'HRTOTLW']]\n",
    "region_n = pd.DataFrame(columns=[\"Men\", \"positive\"])\n",
    "\n",
    "# Compute Deviation from 0.5\n",
    "region_n[\"Men\"] = df_region['HRTOTLM'] - 0.5\n",
    "region_n['positive'] = region_n[\"Men\"] > 0\n",
    "\n",
    "# Plot the bar chart\n",
    "region_n[\"Men\"].plot(kind='barh', color=region_n.positive.map({True: 'red', False: 'blue'}))"
   ]
  },
  {
   "cell_type": "markdown",
   "metadata": {},
   "source": [
    "### Gender by Region in 2017"
   ]
  },
  {
   "cell_type": "code",
   "execution_count": 19,
   "metadata": {},
   "outputs": [
    {
     "data": {
      "text/plain": [
       "<matplotlib.axes._subplots.AxesSubplot at 0x1c247826a0>"
      ]
     },
     "execution_count": 19,
     "metadata": {},
     "output_type": "execute_result"
    },
    {
     "data": {
      "image/png": "[encoded data removed]",
      "text/plain": [
       "<Figure size 432x288 with 1 Axes>"
      ]
     },
     "metadata": {
      "needs_background": "light"
     },
     "output_type": "display_data"
    }
   ],
   "source": [
    "# re-organize data frame\n",
    "temp = pd.merge(df_list[4], df_school_meta, on = 'UNITID', how = 'left')\n",
    "\n",
    "# Compute Region Sum\n",
    "df_region = temp.groupby(['Region']).sum()\n",
    "\n",
    "# Convert Number to Ratio\n",
    "df_region['HRTOTLM'] = df_region['HRTOTLM'] / df_region['HRTOTLT']\n",
    "df_region['HRTOTLW'] = df_region['HRTOTLW'] / df_region['HRTOTLT']\n",
    "region = df_region[['HRTOTLM', 'HRTOTLW']]\n",
    "region_n = pd.DataFrame(columns=[\"Men\", \"positive\"])\n",
    "\n",
    "# Compute Deviation from 0.5\n",
    "region_n[\"Men\"] = df_region['HRTOTLM'] - 0.5\n",
    "region_n['positive'] = region_n[\"Men\"] > 0\n",
    "\n",
    "# Plot the bar chart\n",
    "region_n[\"Men\"].plot(kind='barh', color=region_n.positive.map({True: 'red', False: 'blue'}))"
   ]
  },
  {
   "cell_type": "markdown",
   "metadata": {},
   "source": [
    "#### Gender by Region Result:\n",
    "Comparing the gender by regions stacked bar chart from 2009 to that from 2017, we observed an obvious change in gender composition in instructional employees, in a trend towards the national mean ratio of 0.492. Moreover, US Service schools and outlying areas are considered as outliers since the small data pool each year. Nevertheless, despite improvement in the gender composition, the national ratio of instructional employees by gender still favors the male.\n",
    "- As we cannot acquire gender composition for each state, we use the national mean as expected standard. However, we shall acknowldege that there might be variance in state by state cases, and the above analysis is not within State analysis"
   ]
  },
  {
   "cell_type": "markdown",
   "metadata": {},
   "source": [
    "## Racial Analysis"
   ]
  },
  {
   "cell_type": "markdown",
   "metadata": {},
   "source": [
    "Next we will look into the racial composition among instructional staff in postsecondary educational institutions.  Again, let's first see if the racial composition is a good reflection of the overall U.S. population. As the mean and standard deviation for the true population is unknown and the vector is multimodal, we decide to perform a chi-square test to see the goodness of the fit."
   ]
  },
  {
   "cell_type": "markdown",
   "metadata": {},
   "source": [
    "### Chi-square analysis for the racial proportions"
   ]
  },
  {
   "cell_type": "markdown",
   "metadata": {},
   "source": [
    "We want to see if the academic workspace is a good reflection of the general population. In other words, here we will use a chi-square test to see whether the sample proportion is the same as the population proportion.\n",
    "\n",
    "**Null Hypothesis (H0)**: The sample and the population are from the same distribution.\n",
    "\n",
    "**Alternative Hypothesis (H1)**: The sample and the population are NOT from the same distribution."
   ]
  },
  {
   "cell_type": "markdown",
   "metadata": {},
   "source": [
    "Before that, we want to calculate the expected proportions on our sample based on the population racial proportion."
   ]
  },
  {
   "cell_type": "code",
   "execution_count": 20,
   "metadata": {},
   "outputs": [
    {
     "data": {
      "text/plain": [
       "HRAIANT      3670.0\n",
       "HRASIAT     49047.0\n",
       "HRBKAAT     38964.0\n",
       "HRNHPIT      1365.0\n",
       "HRWHITT    520195.0\n",
       "HR2MORT      3214.0\n",
       "dtype: float64"
      ]
     },
     "execution_count": 20,
     "metadata": {},
     "output_type": "execute_result"
    }
   ],
   "source": [
    "# calculate sum of each year\n",
    "df_sum_list = []\n",
    "sample_total = []\n",
    "for i in np.arange(0,5):\n",
    "    df_sum_list.append(df_list[i].sum())\n",
    "    \n",
    "    # get the observed number of each race in this year\n",
    "    # with the same order\n",
    "    df_sum_list[i] = df_sum_list[i][[\"HRAIANT\", \"HRASIAT\", \"HRBKAAT\", \"HRNHPIT\", \"HRWHITT\", \"HR2MORT\"]]\n",
    "    \n",
    "    # get total faculty count recorded this year\n",
    "    sample_total.append(np.sum(df_sum_list[i]))\n",
    "\n",
    "df_sum_list[0]"
   ]
  },
  {
   "cell_type": "code",
   "execution_count": 21,
   "metadata": {},
   "outputs": [
    {
     "data": {
      "text/plain": [
       "[616455.0, 640514, 1159613, 1165640, 1250755]"
      ]
     },
     "execution_count": 21,
     "metadata": {},
     "output_type": "execute_result"
    }
   ],
   "source": [
    "sample_total"
   ]
  },
  {
   "cell_type": "code",
   "execution_count": 22,
   "metadata": {
    "scrolled": true
   },
   "outputs": [
    {
     "data": {
      "text/html": [
       "<div>\n",
       "<style scoped>\n",
       "    .dataframe tbody tr th:only-of-type {\n",
       "        vertical-align: middle;\n",
       "    }\n",
       "\n",
       "    .dataframe tbody tr th {\n",
       "        vertical-align: top;\n",
       "    }\n",
       "\n",
       "    .dataframe thead th {\n",
       "        text-align: right;\n",
       "    }\n",
       "</style>\n",
       "<table border=\"1\" class=\"dataframe\">\n",
       "  <thead>\n",
       "    <tr style=\"text-align: right;\">\n",
       "      <th></th>\n",
       "      <th>year</th>\n",
       "      <th>different proportions</th>\n",
       "      <th>p value</th>\n",
       "    </tr>\n",
       "  </thead>\n",
       "  <tbody>\n",
       "    <tr>\n",
       "      <th>0</th>\n",
       "      <td>9</td>\n",
       "      <td>True</td>\n",
       "      <td>0.0</td>\n",
       "    </tr>\n",
       "    <tr>\n",
       "      <th>1</th>\n",
       "      <td>11</td>\n",
       "      <td>True</td>\n",
       "      <td>0.0</td>\n",
       "    </tr>\n",
       "    <tr>\n",
       "      <th>2</th>\n",
       "      <td>13</td>\n",
       "      <td>True</td>\n",
       "      <td>0.0</td>\n",
       "    </tr>\n",
       "    <tr>\n",
       "      <th>3</th>\n",
       "      <td>15</td>\n",
       "      <td>True</td>\n",
       "      <td>0.0</td>\n",
       "    </tr>\n",
       "    <tr>\n",
       "      <th>4</th>\n",
       "      <td>17</td>\n",
       "      <td>True</td>\n",
       "      <td>0.0</td>\n",
       "    </tr>\n",
       "  </tbody>\n",
       "</table>\n",
       "</div>"
      ],
      "text/plain": [
       "  year different proportions  p value\n",
       "0    9                  True      0.0\n",
       "1   11                  True      0.0\n",
       "2   13                  True      0.0\n",
       "3   15                  True      0.0\n",
       "4   17                  True      0.0"
      ]
     },
     "execution_count": 22,
     "metadata": {},
     "output_type": "execute_result"
    }
   ],
   "source": [
    "# create a dataframe to store the results of chi-square\n",
    "df_chi = pd.DataFrame(columns = [\"year\", \"different proportions\", \"p value\"])\n",
    "\n",
    "for i in np.arange(0,5):\n",
    "    # perform chi-sqaure test\n",
    "    # calculate expected counts\n",
    "    pop_prop = census_race * sample_total[i]\n",
    "    # get observed counts\n",
    "    sample_prop = df_sum_list[i].values\n",
    "    # perform chi-square\n",
    "    chisq, p_val = chisquare(f_obs = sample_prop, f_exp= pop_prop)\n",
    "    # We use the arbitary 0.05 cutoff\n",
    "    # if p value < 0.05, we reject the null hypothesis\n",
    "    if p_val < 0.05:\n",
    "        result = True\n",
    "    else:\n",
    "        result = False\n",
    "    # append the result to our table\n",
    "    year = 9 + i * 2\n",
    "    df_chi = df_chi.append(pd.Series([year,result, p_val], index=df_chi.columns),ignore_index=True )\n",
    "\n",
    "df_chi\n",
    "    "
   ]
  },
  {
   "cell_type": "markdown",
   "metadata": {},
   "source": [
    "Based on the result of the chi-square test, it seems that each year's racial composition is different from the census's data. Let's visualize the racial composition to get a better understanding."
   ]
  },
  {
   "cell_type": "markdown",
   "metadata": {},
   "source": [
    "### Visualization of racial porpotion "
   ]
  },
  {
   "cell_type": "code",
   "execution_count": 23,
   "metadata": {},
   "outputs": [
    {
     "data": {
      "text/plain": [
       "array([0.012, 0.049, 0.13 , 0.002, 0.784, 0.023])"
      ]
     },
     "execution_count": 23,
     "metadata": {},
     "output_type": "execute_result"
    }
   ],
   "source": [
    "census_race"
   ]
  },
  {
   "cell_type": "code",
   "execution_count": 24,
   "metadata": {},
   "outputs": [
    {
     "data": {
      "text/html": [
       "<div>\n",
       "<style scoped>\n",
       "    .dataframe tbody tr th:only-of-type {\n",
       "        vertical-align: middle;\n",
       "    }\n",
       "\n",
       "    .dataframe tbody tr th {\n",
       "        vertical-align: top;\n",
       "    }\n",
       "\n",
       "    .dataframe thead th {\n",
       "        text-align: right;\n",
       "    }\n",
       "</style>\n",
       "<table border=\"1\" class=\"dataframe\">\n",
       "  <thead>\n",
       "    <tr style=\"text-align: right;\">\n",
       "      <th></th>\n",
       "      <th>YEAR</th>\n",
       "      <th>HRAIANT</th>\n",
       "      <th>HRASIAT</th>\n",
       "      <th>HRBKAAT</th>\n",
       "      <th>HRNHPIT</th>\n",
       "      <th>HRWHITT</th>\n",
       "      <th>HR2MORT</th>\n",
       "    </tr>\n",
       "  </thead>\n",
       "  <tbody>\n",
       "    <tr>\n",
       "      <th>0</th>\n",
       "      <td>census</td>\n",
       "      <td>1.2</td>\n",
       "      <td>4.9</td>\n",
       "      <td>13.0</td>\n",
       "      <td>0.2</td>\n",
       "      <td>78.4</td>\n",
       "      <td>2.3</td>\n",
       "    </tr>\n",
       "  </tbody>\n",
       "</table>\n",
       "</div>"
      ],
      "text/plain": [
       "     YEAR  HRAIANT  HRASIAT  HRBKAAT  HRNHPIT  HRWHITT  HR2MORT\n",
       "0  census      1.2      4.9     13.0      0.2     78.4      2.3"
      ]
     },
     "execution_count": 24,
     "metadata": {},
     "output_type": "execute_result"
    }
   ],
   "source": [
    "df_census = pd.DataFrame({'YEAR': \"census\",\"HRAIANT\": 1.2,\"HRASIAT\": 4.9,\"HRBKAAT\":13.0, \"HRNHPIT\":0.2,\n",
    "                                 \"HRWHITT\":78.4,\"HR2MORT\":2.3 },index=[0])\n",
    "df_census"
   ]
  },
  {
   "cell_type": "code",
   "execution_count": 25,
   "metadata": {},
   "outputs": [
    {
     "data": {
      "text/html": [
       "<div>\n",
       "<style scoped>\n",
       "    .dataframe tbody tr th:only-of-type {\n",
       "        vertical-align: middle;\n",
       "    }\n",
       "\n",
       "    .dataframe tbody tr th {\n",
       "        vertical-align: top;\n",
       "    }\n",
       "\n",
       "    .dataframe thead th {\n",
       "        text-align: right;\n",
       "    }\n",
       "</style>\n",
       "<table border=\"1\" class=\"dataframe\">\n",
       "  <thead>\n",
       "    <tr style=\"text-align: right;\">\n",
       "      <th></th>\n",
       "      <th>YEAR</th>\n",
       "      <th>HRAIANT</th>\n",
       "      <th>HRASIAT</th>\n",
       "      <th>HRBKAAT</th>\n",
       "      <th>HRNHPIT</th>\n",
       "      <th>HRWHITT</th>\n",
       "      <th>HR2MORT</th>\n",
       "    </tr>\n",
       "  </thead>\n",
       "  <tbody>\n",
       "    <tr>\n",
       "      <th>0</th>\n",
       "      <td>census</td>\n",
       "      <td>1.200000</td>\n",
       "      <td>4.900000</td>\n",
       "      <td>13.000000</td>\n",
       "      <td>0.200000</td>\n",
       "      <td>78.400000</td>\n",
       "      <td>2.300000</td>\n",
       "    </tr>\n",
       "    <tr>\n",
       "      <th>0</th>\n",
       "      <td>2009</td>\n",
       "      <td>0.595339</td>\n",
       "      <td>7.956299</td>\n",
       "      <td>6.320656</td>\n",
       "      <td>0.221427</td>\n",
       "      <td>84.384910</td>\n",
       "      <td>0.521368</td>\n",
       "    </tr>\n",
       "    <tr>\n",
       "      <th>1</th>\n",
       "      <td>2011</td>\n",
       "      <td>0.585936</td>\n",
       "      <td>8.512382</td>\n",
       "      <td>6.373943</td>\n",
       "      <td>0.274467</td>\n",
       "      <td>83.563357</td>\n",
       "      <td>0.689915</td>\n",
       "    </tr>\n",
       "    <tr>\n",
       "      <th>2</th>\n",
       "      <td>2013</td>\n",
       "      <td>0.602874</td>\n",
       "      <td>8.329848</td>\n",
       "      <td>6.553135</td>\n",
       "      <td>0.268797</td>\n",
       "      <td>83.403687</td>\n",
       "      <td>0.841660</td>\n",
       "    </tr>\n",
       "    <tr>\n",
       "      <th>3</th>\n",
       "      <td>2015</td>\n",
       "      <td>0.588432</td>\n",
       "      <td>8.888765</td>\n",
       "      <td>6.637898</td>\n",
       "      <td>0.252394</td>\n",
       "      <td>82.611098</td>\n",
       "      <td>1.021413</td>\n",
       "    </tr>\n",
       "    <tr>\n",
       "      <th>4</th>\n",
       "      <td>2017</td>\n",
       "      <td>0.571815</td>\n",
       "      <td>9.645374</td>\n",
       "      <td>6.815803</td>\n",
       "      <td>0.265759</td>\n",
       "      <td>81.597275</td>\n",
       "      <td>1.103973</td>\n",
       "    </tr>\n",
       "  </tbody>\n",
       "</table>\n",
       "</div>"
      ],
      "text/plain": [
       "     YEAR   HRAIANT   HRASIAT    HRBKAAT   HRNHPIT    HRWHITT   HR2MORT\n",
       "0  census  1.200000  4.900000  13.000000  0.200000  78.400000  2.300000\n",
       "0    2009  0.595339  7.956299   6.320656  0.221427  84.384910  0.521368\n",
       "1    2011  0.585936  8.512382   6.373943  0.274467  83.563357  0.689915\n",
       "2    2013  0.602874  8.329848   6.553135  0.268797  83.403687  0.841660\n",
       "3    2015  0.588432  8.888765   6.637898  0.252394  82.611098  1.021413\n",
       "4    2017  0.571815  9.645374   6.815803  0.265759  81.597275  1.103973"
      ]
     },
     "execution_count": 25,
     "metadata": {},
     "output_type": "execute_result"
    }
   ],
   "source": [
    "#build the dataframe for plot\n",
    "#prepare for building the dataframe\n",
    "col_list = [\"HRAIANT\", \"HRASIAT\", \"HRBKAAT\", \"HRNHPIT\", \"HRWHITT\", \"HR2MORT\"]\n",
    "df_plot = pd.DataFrame(columns=col_list)\n",
    "#loop for building the plotting dataframe\n",
    "for i in np.arange(5):\n",
    "    df_plot = df_plot.append(df_sum_list[i]/sum(df_sum_list[i])*100,ignore_index=True)\n",
    "df_plot.insert(loc=0, column='YEAR', value=['2009','2011','2013','2015','2017'])\n",
    "df_plot=pd.concat([df_census, df_plot])\n",
    "\n",
    "y= df_plot.set_index('YEAR')\n",
    "df_plot"
   ]
  },
  {
   "cell_type": "code",
   "execution_count": 26,
   "metadata": {
    "scrolled": false
   },
   "outputs": [
    {
     "data": {
      "text/plain": [
       "<Figure size 3600x3600 with 0 Axes>"
      ]
     },
     "execution_count": 26,
     "metadata": {},
     "output_type": "execute_result"
    },
    {
     "data": {
      "image/png": "[encoded data removed]",
      "text/plain": [
       "<Figure size 432x288 with 1 Axes>"
      ]
     },
     "metadata": {
      "needs_background": "light"
     },
     "output_type": "display_data"
    },
    {
     "data": {
      "text/plain": [
       "<Figure size 3600x3600 with 0 Axes>"
      ]
     },
     "metadata": {},
     "output_type": "display_data"
    }
   ],
   "source": [
    "#Stacked bar\n",
    "colors = ['tab:red', '#4169E1', '#FFD700', 'k', 'tab:grey','tab:orange']\n",
    "y.plot.bar(stacked=True,color=colors)\n",
    "plt.figure(figsize=(50,50))"
   ]
  },
  {
   "cell_type": "markdown",
   "metadata": {},
   "source": [
    "#### Interpretation\n",
    "The census data shows that the White American is the majority which makes up 78.4% of population in the United States. Native Hawaiian(or Other Pacific Islander) is the main minority which makes up only 0.2% of population in the United States.\n",
    "\n",
    "From the stacked bar graph above, we can find that there is a change in instructional staff diversity by race from 2009 to 2017. The proportion of majority (White American) decreases and the proportions of Asian American, Black(or African) American, Native Hawaiian(or Other Pacific Islander) and Multiple race Americna increase. However, for American Indian(or Alaska) Native group, the proportion in instructional staff decreases. Compared to census proportion, White American, Native Hawaiian(or Other Pacific Islander) and Asian American have higher proportion in instructional staff. And Black(of African) American, American Indian(or Alaska) Native and Multiple Races have lower proportion in instructional staff than in census. "
   ]
  },
  {
   "cell_type": "markdown",
   "metadata": {},
   "source": [
    "## Ethics and Privacy"
   ]
  },
  {
   "cell_type": "markdown",
   "metadata": {},
   "source": [
    "The data we used for this project is published on the National Center for Education Statistics and United States Census Bureau websites, and it is specified on their  websites that people are given full permission to download and conduct research with these datasets. The datasets for our research only contain details about gender, race and employment types in each postsecondary educational institution. There is no private information of each employee, and the data only counts the total number of employees according to each classification. When we explore the datasets, we found that gender was only categorized as female and male. Third gender and transgender were not considered as possible classifications for the dataset. However, gender is a social concept and gender identity is not bound by gender binary(female and male). As many states begin to recognize a third gender and residents have the option of a third gender identifier on their identification documents,  the genders other than gender binary should be taken into account when we study diversity in instructional staff of U.S. postsecondary educational institutions by gender. As above, there is a potential bias in the datasets.\n",
    "\n",
    "There are also non-residents aliens in the National Center for Education Statistics dataset, but these foreign aliens are not included in the United States Census. Additionally, people in  the “two or more races” category may be double-counted by the single race identity. \n",
    "\t\n",
    "In order to resolve these issues, we took the following actions: \n",
    "1. We removed non-residents aliens from our datasets and only focus on residents.\n",
    "2. Regarding the overlap census of races in both datasets, we stick to the standards of 2010 U.S. race census, and only compare each race with its own category to compute standard deviation to avoid further inaccuracy. \n",
    "3. Moreover, although we are aware of the limitation in the gender self-identification options in census, we have no other information to resolve this issue, but we included this discussion in our research for hope in future research.\n",
    "\n"
   ]
  },
  {
   "cell_type": "markdown",
   "metadata": {},
   "source": [
    "## Result"
   ]
  },
  {
   "cell_type": "markdown",
   "metadata": {},
   "source": [
    "Above all, we find that there is a significant difference between the proportion from the instructional employees in U.S. postsecondary educational institutions and the proportion from the U.S. census by race from 2009 to 2017. And by gender, the significant difference between those two proportion only appeared in 2009 and 2011. What’s more, there is an obvious change in both gender and race proportion in instructional employees from 2009 to 2017, and the gender composition moves towards census mean of 0.492.The diversity in the instructional employees has changed.\n"
   ]
  },
  {
   "cell_type": "markdown",
   "metadata": {},
   "source": [
    "## Discussion"
   ]
  },
  {
   "cell_type": "markdown",
   "metadata": {},
   "source": [
    "As we mentioned in the results, there has been a change in both gender and racial diversity in instructional staff among the U.S. postsecondary educational institutions from 2009 to 2017. This conclusion would show that there has been increased awareness on the importance of gender and racial diversity in the U.S. postsecondary educational institutions. \n",
    "\n",
    "Through the gender diversity by states and by region analysis, we can see that each state/region is significantly different from each other. For future studies, we can get census data of both gender and racial composition from each state/region rather than use the national-wide census as a baseline for comparison, in order to get a more accurate reflection of both gender and racial diversity in the U.S. \n",
    "\n",
    "The categories of gender in the data sets are not inclusive enough, which only provide the traditional gender dimensions of male and female. The population of people who have gender identifies other than these two categories are excluded from the census. For future analysis of diversity, more gender categories should be added to reflect every possible group. \n",
    "\n",
    "For future racial diversity comparisons, we would need a more holistic way of calculating the racial diversity, since in our current analysis we could only tell that there is a difference between racial proportions in staff among the U.S. postsecondary educational institutions and the U.S. national racial proportion. With a holistic way of calculating the racial diversity index, we would know exactly if the diversity has been improved, and if so, by how much. \n",
    "\n",
    "The general results of our data analysis indicates that we are on the right track towards creating an inclusive teaching and learning environment, so that instructional employees with diverse backgrounds would better benefit students with multicultural backgrounds in learning and understanding their own cultures. \n",
    "\n"
   ]
  },
  {
   "cell_type": "code",
   "execution_count": null,
   "metadata": {},
   "outputs": [],
   "source": []
  }
 ],
 "metadata": {
  "kernelspec": {
   "display_name": "Python 3",
   "language": "python",
   "name": "python3"
  },
  "language_info": {
   "codemirror_mode": {
    "name": "ipython",
    "version": 3
   },
   "file_extension": ".py",
   "mimetype": "text/x-python",
   "name": "python",
   "nbconvert_exporter": "python",
   "pygments_lexer": "ipython3",
   "version": "3.7.1"
  }
 },
 "nbformat": 4,
 "nbformat_minor": 2
}
